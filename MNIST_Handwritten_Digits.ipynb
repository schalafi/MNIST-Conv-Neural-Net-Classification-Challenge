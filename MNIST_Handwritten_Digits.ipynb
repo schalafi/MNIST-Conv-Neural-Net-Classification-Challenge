{
 "cells": [
  {
   "cell_type": "markdown",
   "metadata": {},
   "source": [
    "# Introduction\n",
    "\n",
    "In this project, you will build a neural network of your own design to evaluate the MNIST dataset.\n",
    "\n",
    "Some of the benchmark results on MNIST include can be found [on Yann LeCun's page](https://webcache.googleusercontent.com/search?q=cache:stAVPik6onEJ:yann.lecun.com/exdb/mnist) and include:\n",
    "\n",
    "88% [Lecun et al., 1998](https://hal.science/hal-03926082/document)\n",
    "\n",
    "95.3% [Lecun et al., 1998](https://hal.science/hal-03926082v1/document)\n",
    "\n",
    "99.65% [Ciresan et al., 2011](http://people.idsia.ch/~juergen/ijcai2011.pdf)\n",
    "\n",
    "\n",
    "MNIST is a great dataset for sanity checking your models, since the accuracy levels achieved by large convolutional neural networks and small linear models are both quite high. This makes it important to be familiar with the data.\n",
    "\n",
    "## Installation"
   ]
  },
  {
   "cell_type": "code",
   "execution_count": null,
   "metadata": {},
   "outputs": [],
   "source": [
    "# Update the PATH to include the user installation directory. \n",
    "import os\n",
    "os.environ['PATH'] = f\"{os.environ['PATH']}:/root/.local/bin\"\n",
    "\n",
    "# Restart the Kernel before you move on to the next step."
   ]
  },
  {
   "cell_type": "markdown",
   "metadata": {},
   "source": [
    "#### Important: Restart the Kernel before you move on to the next step."
   ]
  },
  {
   "cell_type": "code",
   "execution_count": null,
   "metadata": {},
   "outputs": [],
   "source": [
    "# Install requirements\n",
    "!python -m pip install -r requirements.txt"
   ]
  },
  {
   "cell_type": "markdown",
   "metadata": {},
   "source": [
    "## Imports"
   ]
  },
  {
   "cell_type": "code",
   "execution_count": 46,
   "metadata": {},
   "outputs": [],
   "source": [
    "## This cell contains the essential imports you will need – DO NOT CHANGE THE CONTENTS! ##\n",
    "import torch\n",
    "import torch.nn as nn\n",
    "import torch.nn.functional as F\n",
    "import torch.optim as optim\n",
    "import torchvision\n",
    "import torchvision.transforms as transforms\n",
    "import matplotlib.pyplot as plt\n",
    "import numpy as np"
   ]
  },
  {
   "cell_type": "markdown",
   "metadata": {},
   "source": [
    "## Load the Dataset\n",
    "\n",
    "Specify your transforms as a list if you intend to .\n",
    "The transforms module is already loaded as `transforms`.\n",
    "\n",
    "MNIST is fortunately included in the torchvision module.\n",
    "Then, you can create your dataset using the `MNIST` object from `torchvision.datasets` ([the documentation is available here](https://pytorch.org/vision/stable/datasets.html#mnist)).\n",
    "Make sure to specify `download=True`! \n",
    "\n",
    "Once your dataset is created, you'll also need to define a `DataLoader` from the `torch.utils.data` module for both the train and the test set."
   ]
  },
  {
   "cell_type": "code",
   "execution_count": 47,
   "metadata": {},
   "outputs": [],
   "source": [
    "from torch.utils.data import random_split, DataLoader                      "
   ]
  },
  {
   "cell_type": "code",
   "execution_count": 48,
   "metadata": {},
   "outputs": [
    {
     "name": "stdout",
     "output_type": "stream",
     "text": [
      "Dataset MNIST\n",
      "    Number of datapoints: 60000\n",
      "    Root location: ./data\n",
      "    Split: Train\n",
      "    StandardTransform\n",
      "Transform: Compose(\n",
      "               ToTensor()\n",
      "               Normalize(mean=0.5, std=0.5)\n",
      "           )\n",
      "Training set size: 48000\n",
      "Validation set size: 6000\n",
      "Test set size: 6000\n"
     ]
    }
   ],
   "source": [
    "# Define transforms\n",
    "## YOUR CODE HERE ##\n",
    "transform = transforms.Compose([\n",
    "    transforms.ToTensor(),\n",
    "    transforms.Normalize((0.5),(0.5))\n",
    "])\n",
    "\n",
    "\n",
    "# Create training set and define training dataloader\n",
    "## YOUR CODE HERE ##\n",
    "\n",
    "dataset = torchvision.datasets.MNIST(root='./data',\n",
    "                                    train = True,\n",
    "                                    download = True,\n",
    "                                    transform = transform)\n",
    "\n",
    "#print(\"Dataset size: \", len(dataset))\n",
    "print(dataset)\n",
    "\n",
    "# create three splits\n",
    "# train, valid and test sets \n",
    "train_size = int(0.8*len(dataset))\n",
    "valid_size = int(0.1*len(dataset))\n",
    "test_size  = len(dataset) -( train_size + valid_size)\n",
    "\n",
    "# split into three \n",
    "train_set, valid_set,test_set = random_split(dataset,\n",
    "                                            [train_size,valid_size,test_size])\n",
    "\n",
    "\n",
    "# Create test set and define test dataloader\n",
    "# create the dataloaders\n",
    "\n",
    "# define batch size \n",
    "BATCH_SIZE = 64\n",
    "\n",
    "train_loader = DataLoader(train_set,\n",
    "                          batch_size = BATCH_SIZE,\n",
    "                          shuffle = True\n",
    "                         )\n",
    "valid_loader = DataLoader(valid_set,\n",
    "                         batch_size = BATCH_SIZE,\n",
    "                         shuffle = True)\n",
    "test_loader  = DataLoader(test_set,\n",
    "                         batch_size = BATCH_SIZE,\n",
    "                         shuffle = True)\n",
    "print(f\"Training set size: {len(train_loader.dataset)}\")\n",
    "print(f\"Validation set size: {len(valid_loader.dataset)}\")\n",
    "print(f\"Test set size: {len(test_loader.dataset)}\")\n",
    "\n"
   ]
  },
  {
   "cell_type": "code",
   "execution_count": 49,
   "metadata": {},
   "outputs": [
    {
     "name": "stdout",
     "output_type": "stream",
     "text": [
      "torch.Size([64, 1, 28, 28]) torch.Size([64])\n"
     ]
    }
   ],
   "source": [
    "### Get a batch of the data\n",
    "\n",
    "data_iter = iter(train_loader)\n",
    "images,labels = next(data_iter)\n",
    "\n",
    "# we have tensors of shape [64,1,28,28]\n",
    "# 64 examples per batch, and images of 28x28\n",
    "# while we have only one number per image (one for each of the 64 images)\n",
    "print(images.shape, labels.shape)"
   ]
  },
  {
   "cell_type": "code",
   "execution_count": null,
   "metadata": {},
   "outputs": [],
   "source": []
  },
  {
   "cell_type": "code",
   "execution_count": null,
   "metadata": {},
   "outputs": [],
   "source": []
  },
  {
   "cell_type": "markdown",
   "metadata": {},
   "source": [
    "## Justify your preprocessing\n",
    "\n",
    "In your own words, why did you choose the transforms you chose? If you didn't use any preprocessing steps, why not?\n",
    "\n",
    "- `ToTensor()` transform is needed to obtain **tensors**.\n",
    "  Pytorch use **tensors** while our dataset contains **images. \n",
    "\n",
    "- In order to make the training more efficient and easy for the optimizer\n",
    "    we standardize the inputs.\n",
    "   - after the transform our images will have a **mean** of 0.5\n",
    "   and a **standard deviation** of 0.5\n",
    "   "
   ]
  },
  {
   "cell_type": "markdown",
   "metadata": {},
   "source": [
    "**DOUBLE CLICK THIS CELL TO MODIFY**"
   ]
  },
  {
   "cell_type": "markdown",
   "metadata": {},
   "source": [
    "## Explore the Dataset\n",
    "Using matplotlib, numpy, and torch, explore the dimensions of your data.\n",
    "\n",
    "You can view images using the `show5` function defined below – it takes a data loader as an argument.\n",
    "Remember that normalized images will look really weird to you! You may want to try changing your transforms to view images.\n",
    "Typically using no transforms other than `toTensor()` works well for viewing – but not as well for training your network.\n",
    "If `show5` doesn't work, go back and check your code for creating your data loaders and your training/test sets."
   ]
  },
  {
   "cell_type": "code",
   "execution_count": 50,
   "metadata": {},
   "outputs": [],
   "source": [
    "## This cell contains a function for showing 5 images from a dataloader – DO NOT CHANGE THE CONTENTS! ##\n",
    "def show5(img_loader):\n",
    "    dataiter = iter(img_loader)\n",
    "    \n",
    "    batch = next(dataiter)\n",
    "    labels = batch[1][0:5]\n",
    "    images = batch[0][0:5]\n",
    "    for i in range(5):\n",
    "        print(int(labels[i].detach()))\n",
    "    \n",
    "        image = images[i].numpy()\n",
    "        plt.imshow(image.T.squeeze().T)\n",
    "        plt.show()"
   ]
  },
  {
   "cell_type": "code",
   "execution_count": 51,
   "metadata": {},
   "outputs": [
    {
     "name": "stdout",
     "output_type": "stream",
     "text": [
      "7\n"
     ]
    },
    {
     "data": {
      "image/png": "[encoded data removed]",
      "text/plain": [
       "<Figure size 432x288 with 1 Axes>"
      ]
     },
     "metadata": {
      "needs_background": "light"
     },
     "output_type": "display_data"
    },
    {
     "name": "stdout",
     "output_type": "stream",
     "text": [
      "4\n"
     ]
    },
    {
     "data": {
      "image/png": "[encoded data removed]",
      "text/plain": [
       "<Figure size 432x288 with 1 Axes>"
      ]
     },
     "metadata": {
      "needs_background": "light"
     },
     "output_type": "display_data"
    },
    {
     "name": "stdout",
     "output_type": "stream",
     "text": [
      "0\n"
     ]
    },
    {
     "data": {
      "image/png": "[encoded data removed]",
      "text/plain": [
       "<Figure size 432x288 with 1 Axes>"
      ]
     },
     "metadata": {
      "needs_background": "light"
     },
     "output_type": "display_data"
    },
    {
     "name": "stdout",
     "output_type": "stream",
     "text": [
      "7\n"
     ]
    },
    {
     "data": {
      "image/png": "[encoded data removed]",
      "text/plain": [
       "<Figure size 432x288 with 1 Axes>"
      ]
     },
     "metadata": {
      "needs_background": "light"
     },
     "output_type": "display_data"
    },
    {
     "name": "stdout",
     "output_type": "stream",
     "text": [
      "3\n"
     ]
    },
    {
     "data": {
      "image/png": "[encoded data removed]",
      "text/plain": [
       "<Figure size 432x288 with 1 Axes>"
      ]
     },
     "metadata": {
      "needs_background": "light"
     },
     "output_type": "display_data"
    }
   ],
   "source": [
    "# Explore data\n",
    "## YOUR CODE HERE ##\n",
    "\n",
    "show5(train_loader)"
   ]
  },
  {
   "cell_type": "markdown",
   "metadata": {},
   "source": [
    "## Build your Neural Network\n",
    "Using the layers in `torch.nn` (which has been imported as `nn`) and the `torch.nn.functional` module (imported as `F`), construct a neural network based on the parameters of the dataset.\n",
    "Use any architecture you like. \n",
    "\n",
    "*Note*: If you did not flatten your tensors in your transforms or as part of your preprocessing and you are using only `Linear` layers, make sure to use the `Flatten` layer in your network!"
   ]
  },
  {
   "cell_type": "code",
   "execution_count": 52,
   "metadata": {},
   "outputs": [],
   "source": [
    "## YOUR CODE HERE ##\n",
    "\n",
    "# create a convolutional neural net\n",
    "# Note: dimensions order in pytorch is \n",
    "# NCHW: N batch , C channels, H heigth, W width\n",
    "\n",
    "class ConvNN(nn.Module):\n",
    "    def __init__(self):\n",
    "        super(ConvNN, self).__init__()\n",
    "        \n",
    "        # define layers\n",
    "        self.conv1 = nn.Conv2d(\n",
    "            in_channels   =1 , # pass images with one single channel (black and white)\n",
    "            out_channels = 32, # return a tensor with 32 channels\n",
    "            kernel_size =3,\n",
    "            stride = 1, # a step of 1 while moving the kernel \n",
    "            padding = 1 # padding of 1 to fit kernel size \n",
    "            )\n",
    "        \n",
    "        # Batch normalization for conv1\n",
    "        self.bn1 = nn.BatchNorm2d(32)  \n",
    "\n",
    "        \n",
    "        self.conv2 = nn.Conv2d(\n",
    "            in_channels = 32, # the same as the output channels from previous layer ´conv1´ \n",
    "            out_channels = 64, # double the output channels \n",
    "            kernel_size = 3,\n",
    "            stride = 1,\n",
    "            padding = 1 \n",
    "            ) \n",
    "        \n",
    "        # Batch normalization for conv2\n",
    "        self.bn2 = nn.BatchNorm2d(64)  \n",
    "        \n",
    "        self.conv3 = nn.Conv2d(\n",
    "            in_channels=64, \n",
    "            out_channels=128, \n",
    "            kernel_size=3, \n",
    "            stride=1, \n",
    "            padding=1\n",
    "        )\n",
    "        self.bn3 = nn.BatchNorm2d(128)  # Batch normalization for conv3\n",
    "\n",
    "        \n",
    "        # Now define fully connected layers (multilayer perceptron)\n",
    "        self.fc1 = nn.Linear(in_features = 128*3*3, # input is a tensor of 128*3*3 entries\n",
    "                             out_features = 128)\n",
    "        \n",
    "        self.fc2 = nn.Linear(in_features = 128, # number input features is the same as output features from prev layer \n",
    "                             out_features = 10) # number of ouputs is the same as the number of classes (digits 0, 1, ... 10)\n",
    "        \n",
    "        #define dropout layer \n",
    "        self.dropout = nn.Dropout(0.5)\n",
    "    \n",
    "    \n",
    "    def forward(self,x):\n",
    "        \n",
    "        # apply conv layer then activation function\n",
    "        x = F.relu(self.conv1(x))\n",
    "        # apply pooling reduction to get only regions of max activation\n",
    "        x = F.max_pool2d(input = x, kernel_size = 2)\n",
    "        \n",
    "        x = F.relu(self.conv2(x))\n",
    "        x = F.max_pool2d(x,2)\n",
    "        \n",
    "        x = F.relu(self.bn3(self.conv3(x)))\n",
    "        x = F.max_pool2d(x, 2)\n",
    "        \n",
    "        #print(\"x shape  after convs: \", x.shape)\n",
    "        \n",
    "        # from  tensor to a vector \n",
    "        x = x.view(-1,128 * 3 * 3) # batch size is first\n",
    "        #print(\"x shape  after view: \", x.shape)\n",
    "        \n",
    "        # apply multi-layer perceptron\n",
    "        x = F.relu(self.fc1(x))\n",
    "        \n",
    "        #apply dropout\n",
    "        x = self.dropout(x)\n",
    "        \n",
    "        x = self.fc2(x)\n",
    "        \n",
    "        return F.log_softmax(x, dim=1)  # Apply log_softmax\n"
   ]
  },
  {
   "cell_type": "code",
   "execution_count": null,
   "metadata": {},
   "outputs": [],
   "source": []
  },
  {
   "cell_type": "code",
   "execution_count": null,
   "metadata": {},
   "outputs": [],
   "source": []
  },
  {
   "cell_type": "markdown",
   "metadata": {},
   "source": [
    "Specify a loss function and an optimizer, and instantiate the model.\n",
    "\n",
    "If you use a less common loss function, please note why you chose that loss function in a comment."
   ]
  },
  {
   "cell_type": "code",
   "execution_count": 53,
   "metadata": {},
   "outputs": [],
   "source": [
    "## YOUR CODE HERE ##"
   ]
  },
  {
   "cell_type": "code",
   "execution_count": 54,
   "metadata": {},
   "outputs": [
    {
     "data": {
      "text/plain": [
       "ConvNN(\n",
       "  (conv1): Conv2d(1, 32, kernel_size=(3, 3), stride=(1, 1), padding=(1, 1))\n",
       "  (bn1): BatchNorm2d(32, eps=1e-05, momentum=0.1, affine=True, track_running_stats=True)\n",
       "  (conv2): Conv2d(32, 64, kernel_size=(3, 3), stride=(1, 1), padding=(1, 1))\n",
       "  (bn2): BatchNorm2d(64, eps=1e-05, momentum=0.1, affine=True, track_running_stats=True)\n",
       "  (conv3): Conv2d(64, 128, kernel_size=(3, 3), stride=(1, 1), padding=(1, 1))\n",
       "  (bn3): BatchNorm2d(128, eps=1e-05, momentum=0.1, affine=True, track_running_stats=True)\n",
       "  (fc1): Linear(in_features=1152, out_features=128, bias=True)\n",
       "  (fc2): Linear(in_features=128, out_features=10, bias=True)\n",
       "  (dropout): Dropout(p=0.5, inplace=False)\n",
       ")"
      ]
     },
     "execution_count": 54,
     "metadata": {},
     "output_type": "execute_result"
    }
   ],
   "source": [
    "model = ConvNN()\n",
    "model"
   ]
  },
  {
   "cell_type": "code",
   "execution_count": 63,
   "metadata": {},
   "outputs": [],
   "source": [
    "# Loss for classification\n",
    "criterion = nn.NLLLoss()\n",
    "\n",
    "# optimizer\n",
    "optimizer = torch.optim.Adam(model.parameters(), \n",
    "                             lr=0.03,#0.005\n",
    "                             weight_decay = 0.001 #0.001\n",
    ")"
   ]
  },
  {
   "cell_type": "code",
   "execution_count": 64,
   "metadata": {},
   "outputs": [
    {
     "data": {
      "text/plain": [
       "device(type='cuda')"
      ]
     },
     "execution_count": 64,
     "metadata": {},
     "output_type": "execute_result"
    }
   ],
   "source": [
    "device = torch.device('cuda' if torch.cuda.is_available() else 'cpu')\n",
    "device"
   ]
  },
  {
   "cell_type": "code",
   "execution_count": 65,
   "metadata": {},
   "outputs": [
    {
     "name": "stdout",
     "output_type": "stream",
     "text": [
      "Moving model to device:  cuda\n"
     ]
    }
   ],
   "source": [
    "print(\"Moving model to device: \", device)\n",
    "# move model to device \n",
    "model = model.to(device)\n",
    "    "
   ]
  },
  {
   "cell_type": "code",
   "execution_count": null,
   "metadata": {},
   "outputs": [],
   "source": []
  },
  {
   "cell_type": "code",
   "execution_count": 66,
   "metadata": {},
   "outputs": [],
   "source": [
    "import time \n",
    "import torch as th "
   ]
  },
  {
   "cell_type": "code",
   "execution_count": 67,
   "metadata": {},
   "outputs": [],
   "source": [
    "def train_step(model: th.nn.Module,\n",
    "          dataloader: th.utils.data.DataLoader,\n",
    "          criterion: th.nn.Module,\n",
    "          optimizer: th.optim.Optimizer,\n",
    "          device: th.device) -> None:\n",
    "    \"\"\"\n",
    "    Args:\n",
    "        model: The model to train.\n",
    "        train_dataloader: The training data.\n",
    "        criterion: The loss function.\n",
    "        optimizer: The optimizer to use.\n",
    "        device: The device to use.\n",
    "    Model weigths are changed in place\n",
    "    \n",
    "    Receive a model, train it with the given optimizer\n",
    "    by ONE epoch, using the `criterion` function to measure the performance of the model.\n",
    "    The model will be trained on the `train_dataloader` and\n",
    "    evaluated on the `valid_dataloader` during each epoch.\n",
    "    The function will return the trained model.\n",
    "\n",
    "    Returns:\n",
    "    loss_value, accuracy \n",
    "        \n",
    "    \"\"\"\n",
    "    \n",
    "    # set model to train mode \n",
    "    model.train()\n",
    "\n",
    "    # init \n",
    "    loss_value,accuracy = 0,0\n",
    "    \n",
    "    #start time \n",
    "    t0 = time.time()\n",
    "    n_batches= len(dataloader)\n",
    "    \n",
    "    #Iterate over the pairs (X_i,y_i) (features, labels)\n",
    "    for i, (X,y) in enumerate(dataloader):\n",
    "        #if i >= 10:\n",
    "        #    break\n",
    "        #print(\"Training on batch {} from {} batches\".format(i,n_batches))\n",
    "\n",
    "        #move the data to device\n",
    "        #must be on the same device that model\n",
    "        features,labels = X.to(device), y.to(device)\n",
    "        \n",
    "        # apply forward propagation\n",
    "        # outputs is the log probabilities\n",
    "        outputs = model(features)\n",
    "\n",
    "        # compute loss\n",
    "        loss= criterion(outputs, labels)\n",
    "\n",
    "        # loss_value is a single number, get it with .item\n",
    "        batch_loss = loss.item()\n",
    "        loss_value +=  batch_loss\n",
    "\n",
    "        # reset gradient accumulation\n",
    "        # gradient tensors to 0\n",
    "        optimizer.zero_grad()\n",
    "\n",
    "        # compute gradients\n",
    "        loss.backward()\n",
    "\n",
    "        # update params. \n",
    "        # apply gradient descent\n",
    "        optimizer.step()\n",
    "\n",
    "        # Get the classes predicted by the model\n",
    "        # logits -> classes \n",
    "        #predicted_classes = th.argmax(\n",
    "        #    th.softmax(outputs,dim = 1),\n",
    "        #    dim= 1 )\n",
    "        \n",
    "        # Compute accuracy applying exponential e^x\n",
    "        # we are using Neative Log Likelihood Loss (th.nn.NLLLoss())\n",
    "        # log probabilities -> probabilities\n",
    "        probs = torch.exp(outputs)\n",
    "\n",
    "        # get the topk biggest values from probs\n",
    "        # values, indices = probs.topk(k=5, dim=1)  \n",
    "        # we get (top probability, top class (index))\n",
    "        top_p, top_class = probs.topk(k=1, dim=1)\n",
    "\n",
    "        # compare the predicted class (top_class) and the actual\n",
    "        #class (label)\n",
    "        # transform (get a view) the labels into the shape of top class\n",
    "        equals = top_class == labels.view(*top_class.shape)\n",
    "        #train_accuracy += th.mean(equals.type(th.FloatTensor)).item()\n",
    "        accuracy += th.mean(equals.type(th.float)).item()\n",
    "        \n",
    "    loss_value = loss_value / len(dataloader)\n",
    "    \n",
    "    accuracy = accuracy / len(dataloader)\n",
    "    \n",
    "    print('\\033[102m' + 'New epoch completed!' + '\\033[0m')\n",
    "    print(f'Training Loss: {loss_value:.3f}')\n",
    "    print(f'Training Accuracy: {100.0*accuracy:.3f}% ')\n",
    "    print(f'Time Elapsed: {time.time() - t0:.3f} seconds')\n",
    "    print()    \n",
    "\n",
    "    return loss_value, accuracy"
   ]
  },
  {
   "cell_type": "code",
   "execution_count": 68,
   "metadata": {},
   "outputs": [],
   "source": [
    "def validation_step(model: th.nn.Module,\n",
    "          dataloader: th.utils.data.DataLoader,\n",
    "          criterion: th.nn.Module,\n",
    "          device: th.device) -> None:\n",
    "    \"\"\"\n",
    "    Args:\n",
    "        model: The model to train.\n",
    "        train_dataloader: The training data.\n",
    "        valid_dataloader: The validation data.\n",
    "        criterion: The loss function.\n",
    "        device: The device to use.\n",
    "        \n",
    "    Receive a model, run it  to validate on the given data.\n",
    "    Use one epoch over the dataset on dataloader.\n",
    "    The function will return accuracy and loss on the dataset\n",
    "    \n",
    "    \n",
    "    Returns:\n",
    "        loss_value, accuracy \n",
    "    \"\"\"\n",
    "    \n",
    "    # set model to evaluation mode\n",
    "    #turn off gradient computation\n",
    "    model.eval()\n",
    "\n",
    "    # init \n",
    "    loss_value,accuracy = 0,0\n",
    "    \n",
    "    #start time \n",
    "    t0 = time.time()\n",
    "\n",
    "    #Iterate over the pairs (X_i,y_i) (features, labels)\n",
    "    for i, (X,y) in enumerate(dataloader):\n",
    "        #if i >= 10:\n",
    "        #    break\n",
    "        #move the data to device\n",
    "        #must be on the same device that model\n",
    "        features,labels = X.to(device),y.to(device)\n",
    "        \n",
    "        # apply forward propagation\n",
    "        # outputs is the log probabilities\n",
    "        outputs = model(features)\n",
    "\n",
    "        # compute loss\n",
    "        loss= criterion(outputs, labels)\n",
    "\n",
    "        # the loss_value is a number\n",
    "        batch_loss = loss.item()\n",
    "        loss_value+=  batch_loss\n",
    "\n",
    "        # Get the classes predicted by the model\n",
    "        # logits -> classes \n",
    "        #predicted_classes = th.argmax(\n",
    "        #    th.softmax(outputs,dim = 1),\n",
    "        #    dim= 1 \n",
    "        #)\n",
    "        \n",
    "        # Compute accuracy\n",
    "        # log probabilities -> probabilities\n",
    "        probs = torch.exp(outputs)\n",
    "\n",
    "        # get the topk biggest values from probs\n",
    "        # values, indices = probs.topk(k=5, dim=1)  \n",
    "        # we get top probability, top class (index)\n",
    "        top_p, top_class = probs.topk(k=1, dim=1)\n",
    "\n",
    "        # compare the predicted class (top_class) and the actual classes (labels)\n",
    "        # transform (get a view) the labels into the shape of top class\n",
    "        equals = top_class == labels.view(*top_class.shape)\n",
    "        #train_accuracy += th.mean(equals.type(th.FloatTensor)).item()\n",
    "        accuracy += th.mean(equals.type(th.float)).item()\n",
    "        \n",
    "    loss_value = loss_value / len(dataloader)\n",
    "    accuracy = accuracy / len(dataloader)\n",
    "\n",
    "    print('\\033[102m' + 'New validation epoch completed!' + '\\033[0m')\n",
    "    print(f'Validation Loss: {loss_value:.3f}')\n",
    "    print(f'Validation Accuracy: {100.0*accuracy:.3f}%')\n",
    "    print(f'Time Elapsed: {time.time() - t0:.3f} seconds')\n",
    "    print()    \n",
    "\n",
    "    return loss_value, accuracy "
   ]
  },
  {
   "cell_type": "code",
   "execution_count": 69,
   "metadata": {},
   "outputs": [],
   "source": [
    "def train(model: th.nn.Module,\n",
    "          train_dataloader: th.utils.data.DataLoader,\n",
    "          valid_dataloader: th.utils.data.DataLoader,\n",
    "          criterion: th.nn.Module,\n",
    "          optimizer: th.optim.Optimizer,\n",
    "          device: th.device, \n",
    "          epochs : int) -> None:\n",
    "    \"\"\"\n",
    "    Receive a model, train it with the given optimizer\n",
    "    by n number of  epochs (epochs) , and evaluate it\n",
    "    using the `criterion` function to measure the performance of the model.\n",
    "    \n",
    "    The model will be trained on the data given by `train_dataloader` and\n",
    "    evaluated on the `valid_dataloader` data, during each epoch.\n",
    "        \n",
    "    Args:\n",
    "        model: The model to train.\n",
    "        train_dataloader: The training data.\n",
    "        valid_dataloader: The validation data.\n",
    "        criterion: The loss function.\n",
    "        optimizer: The optimizer to use.\n",
    "        device: The device to use.\n",
    "        epochs: the number of epochs to train\n",
    "    Model weigths are changed in place\n",
    "    \n",
    "    Returns:\n",
    "    loss_value, accuracy \n",
    "        \n",
    "    \"\"\"\n",
    "\n",
    "    # Collect loss and accuracy \n",
    "    train_losses, train_accuracies = [],[]\n",
    "    valid_losses, valid_accuracies = [],[]\n",
    "\n",
    "    print(\"\\033[92m{}\\033[00m\".format(\"Starting training . . . \") )\n",
    "    print(\"Number of epochs: \" ,epochs)\n",
    "    print(\"Device: \",device )\n",
    "    print(\"Criterion: \", criterion)\n",
    "    print(\"Optimizaer: \", optimizer)\n",
    "\n",
    "    for epoch in range(epochs):\n",
    "        print(\"\\033[94m {}\\033[00m\".format(\"Epoch: \" + str(epoch)))\n",
    "    \n",
    "        train_loss, train_accuracy = train_step(model = model ,\n",
    "            dataloader = train_dataloader,\n",
    "            criterion = criterion,\n",
    "            optimizer = optimizer,\n",
    "            device = device)\n",
    "        train_losses.append(train_loss)\n",
    "        train_accuracies.append(train_accuracy)\n",
    "\n",
    "        valid_loss, valid_accuracy = validation_step(model = model ,\n",
    "            dataloader = valid_dataloader,\n",
    "            criterion = criterion,\n",
    "            device = device)\n",
    "        valid_losses.append(valid_loss)\n",
    "        valid_accuracies.append(valid_accuracy)\n",
    "\n",
    "        print()\n",
    "        \n",
    "        \n",
    "    #print(\"training losses and valid: \", train_losses,valid_losses)    \n",
    "    # Plot the training and validation loss history\n",
    "    plt.plot(train_losses, label=\"Training Loss\")\n",
    "    plt.plot(valid_losses, label=\"Validation Loss\")\n",
    "    plt.legend()\n",
    "    \n",
    "    plt.subplots(1)\n",
    "    plt.plot(train_accuracies, label=\"Training Accuracy\")\n",
    "    plt.plot(valid_accuracies, label=\"Validation Accuracy\")\n",
    "    \n",
    "    plt.legend()\n",
    "    plt.show()"
   ]
  },
  {
   "cell_type": "code",
   "execution_count": 70,
   "metadata": {},
   "outputs": [
    {
     "name": "stdout",
     "output_type": "stream",
     "text": [
      "\u001b[92mStarting training . . . \u001b[00m\n",
      "Number of epochs:  10\n",
      "Device:  cuda\n",
      "Criterion:  NLLLoss()\n",
      "Optimizaer:  Adam (\n",
      "Parameter Group 0\n",
      "    amsgrad: False\n",
      "    betas: (0.9, 0.999)\n",
      "    eps: 1e-08\n",
      "    lr: 0.03\n",
      "    maximize: False\n",
      "    weight_decay: 0.001\n",
      ")\n",
      "\u001b[94m Epoch: 0\u001b[00m\n",
      "\u001b[102mNew epoch completed!\u001b[0m\n",
      "Training Loss: 0.374\n",
      "Training Accuracy: 88.292% \n",
      "Time Elapsed: 12.286 seconds\n",
      "\n",
      "\u001b[102mNew validation epoch completed!\u001b[0m\n",
      "Validation Loss: 11.081\n",
      "Validation Accuracy: 23.061%\n",
      "Time Elapsed: 1.340 seconds\n",
      "\n",
      "\n",
      "\u001b[94m Epoch: 1\u001b[00m\n",
      "\u001b[102mNew epoch completed!\u001b[0m\n",
      "Training Loss: 0.240\n",
      "Training Accuracy: 93.246% \n",
      "Time Elapsed: 11.560 seconds\n",
      "\n",
      "\u001b[102mNew validation epoch completed!\u001b[0m\n",
      "Validation Loss: 0.278\n",
      "Validation Accuracy: 91.700%\n",
      "Time Elapsed: 1.318 seconds\n",
      "\n",
      "\n",
      "\u001b[94m Epoch: 2\u001b[00m\n",
      "\u001b[102mNew epoch completed!\u001b[0m\n",
      "Training Loss: 0.243\n",
      "Training Accuracy: 93.079% \n",
      "Time Elapsed: 11.481 seconds\n",
      "\n",
      "\u001b[102mNew validation epoch completed!\u001b[0m\n",
      "Validation Loss: 0.193\n",
      "Validation Accuracy: 94.038%\n",
      "Time Elapsed: 1.367 seconds\n",
      "\n",
      "\n",
      "\u001b[94m Epoch: 3\u001b[00m\n",
      "\u001b[102mNew epoch completed!\u001b[0m\n",
      "Training Loss: 0.236\n",
      "Training Accuracy: 93.448% \n",
      "Time Elapsed: 11.444 seconds\n",
      "\n",
      "\u001b[102mNew validation epoch completed!\u001b[0m\n",
      "Validation Loss: 0.153\n",
      "Validation Accuracy: 95.883%\n",
      "Time Elapsed: 1.411 seconds\n",
      "\n",
      "\n",
      "\u001b[94m Epoch: 4\u001b[00m\n",
      "\u001b[102mNew epoch completed!\u001b[0m\n",
      "Training Loss: 0.239\n",
      "Training Accuracy: 93.340% \n",
      "Time Elapsed: 11.479 seconds\n",
      "\n",
      "\u001b[102mNew validation epoch completed!\u001b[0m\n",
      "Validation Loss: 0.132\n",
      "Validation Accuracy: 96.094%\n",
      "Time Elapsed: 1.413 seconds\n",
      "\n",
      "\n",
      "\u001b[94m Epoch: 5\u001b[00m\n",
      "\u001b[102mNew epoch completed!\u001b[0m\n",
      "Training Loss: 0.232\n",
      "Training Accuracy: 93.442% \n",
      "Time Elapsed: 11.344 seconds\n",
      "\n",
      "\u001b[102mNew validation epoch completed!\u001b[0m\n",
      "Validation Loss: 0.167\n",
      "Validation Accuracy: 95.002%\n",
      "Time Elapsed: 1.354 seconds\n",
      "\n",
      "\n",
      "\u001b[94m Epoch: 6\u001b[00m\n",
      "\u001b[102mNew epoch completed!\u001b[0m\n",
      "Training Loss: 0.241\n",
      "Training Accuracy: 93.271% \n",
      "Time Elapsed: 11.422 seconds\n",
      "\n",
      "\u001b[102mNew validation epoch completed!\u001b[0m\n",
      "Validation Loss: 0.146\n",
      "Validation Accuracy: 95.817%\n",
      "Time Elapsed: 1.306 seconds\n",
      "\n",
      "\n",
      "\u001b[94m Epoch: 7\u001b[00m\n",
      "\u001b[102mNew epoch completed!\u001b[0m\n",
      "Training Loss: 0.232\n",
      "Training Accuracy: 93.510% \n",
      "Time Elapsed: 11.362 seconds\n",
      "\n",
      "\u001b[102mNew validation epoch completed!\u001b[0m\n",
      "Validation Loss: 0.170\n",
      "Validation Accuracy: 94.941%\n",
      "Time Elapsed: 1.355 seconds\n",
      "\n",
      "\n",
      "\u001b[94m Epoch: 8\u001b[00m\n",
      "\u001b[102mNew epoch completed!\u001b[0m\n",
      "Training Loss: 0.230\n",
      "Training Accuracy: 93.608% \n",
      "Time Elapsed: 11.376 seconds\n",
      "\n",
      "\u001b[102mNew validation epoch completed!\u001b[0m\n",
      "Validation Loss: 0.200\n",
      "Validation Accuracy: 93.589%\n",
      "Time Elapsed: 1.359 seconds\n",
      "\n",
      "\n",
      "\u001b[94m Epoch: 9\u001b[00m\n",
      "\u001b[102mNew epoch completed!\u001b[0m\n",
      "Training Loss: 0.233\n",
      "Training Accuracy: 93.333% \n",
      "Time Elapsed: 11.441 seconds\n",
      "\n",
      "\u001b[102mNew validation epoch completed!\u001b[0m\n",
      "Validation Loss: 0.113\n",
      "Validation Accuracy: 96.881%\n",
      "Time Elapsed: 1.298 seconds\n",
      "\n",
      "\n"
     ]
    },
    {
     "data": {
      "image/png": "[encoded data removed]",
      "text/plain": [
       "<Figure size 432x288 with 1 Axes>"
      ]
     },
     "metadata": {
      "needs_background": "light"
     },
     "output_type": "display_data"
    },
    {
     "data": {
      "image/png": "[encoded data removed]",
      "text/plain": [
       "<Figure size 432x288 with 1 Axes>"
      ]
     },
     "metadata": {
      "needs_background": "light"
     },
     "output_type": "display_data"
    }
   ],
   "source": [
    "train(model,\n",
    "        train_loader,\n",
    "        valid_loader,\n",
    "        criterion,\n",
    "        optimizer,\n",
    "        device, \n",
    "        epochs = 10)"
   ]
  },
  {
   "cell_type": "code",
   "execution_count": null,
   "metadata": {},
   "outputs": [],
   "source": []
  },
  {
   "cell_type": "markdown",
   "metadata": {},
   "source": [
    "## Running your Neural Network\n",
    "Use whatever method you like to train your neural network, and ensure you record the average loss at each epoch. \n",
    "Don't forget to use `torch.device()` and the `.to()` method for both your model and your data if you are using GPU!\n",
    "\n",
    "If you want to print your loss **during** each epoch, you can use the `enumerate` function and print the loss after a set number of batches. 250 batches works well for most people!"
   ]
  },
  {
   "cell_type": "code",
   "execution_count": null,
   "metadata": {},
   "outputs": [],
   "source": [
    "## YOUR CODE HERE ##\n",
    "\n",
    "\n",
    "\n"
   ]
  },
  {
   "cell_type": "markdown",
   "metadata": {},
   "source": [
    "Plot the training loss (and validation loss/accuracy, if recorded)."
   ]
  },
  {
   "cell_type": "code",
   "execution_count": null,
   "metadata": {},
   "outputs": [],
   "source": [
    "## YOUR CODE HERE ##"
   ]
  },
  {
   "cell_type": "markdown",
   "metadata": {},
   "source": [
    "## Testing your model\n",
    "Using the previously created `DataLoader` for the test set, compute the percentage of correct predictions using the highest probability prediction. \n",
    "\n",
    "If your accuracy is over 90%, great work, but see if you can push a bit further! \n",
    "If your accuracy is under 90%, you'll need to make improvements.\n",
    "Go back and check your model architecture, loss function, and optimizer to make sure they're appropriate for an image classification task."
   ]
  },
  {
   "cell_type": "code",
   "execution_count": null,
   "metadata": {},
   "outputs": [],
   "source": [
    "## YOUR CODE HERE ##"
   ]
  },
  {
   "cell_type": "markdown",
   "metadata": {},
   "source": [
    "## Improving your model\n",
    "\n",
    "Once your model is done training, try tweaking your hyperparameters and training again below to improve your accuracy on the test set!"
   ]
  },
  {
   "cell_type": "code",
   "execution_count": null,
   "metadata": {},
   "outputs": [],
   "source": [
    "## YOUR CODE HERE ##"
   ]
  },
  {
   "cell_type": "markdown",
   "metadata": {},
   "source": [
    "## Saving your model\n",
    "Using `torch.save`, save your model for future loading."
   ]
  },
  {
   "cell_type": "code",
   "execution_count": null,
   "metadata": {},
   "outputs": [],
   "source": [
    "## YOUR CODE HERE ##"
   ]
  }
 ],
 "metadata": {
  "kernelspec": {
   "display_name": "Python 3",
   "language": "python",
   "name": "python3"
  },
  "language_info": {
   "codemirror_mode": {
    "name": "ipython",
    "version": 3
   },
   "file_extension": ".py",
   "mimetype": "text/x-python",
   "name": "python",
   "nbconvert_exporter": "python",
   "pygments_lexer": "ipython3",
   "version": "3.7.6"
  }
 },
 "nbformat": 4,
 "nbformat_minor": 4
}
