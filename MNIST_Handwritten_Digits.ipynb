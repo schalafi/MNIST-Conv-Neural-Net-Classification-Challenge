{
 "cells": [
  {
   "cell_type": "markdown",
   "metadata": {},
   "source": [
    "# Introduction\n",
    "\n",
    "In this project, you will build a neural network of your own design to evaluate the MNIST dataset.\n",
    "\n",
    "Some of the benchmark results on MNIST include can be found [on Yann LeCun's page](https://webcache.googleusercontent.com/search?q=cache:stAVPik6onEJ:yann.lecun.com/exdb/mnist) and include:\n",
    "\n",
    "88% [Lecun et al., 1998](https://hal.science/hal-03926082/document)\n",
    "\n",
    "95.3% [Lecun et al., 1998](https://hal.science/hal-03926082v1/document)\n",
    "\n",
    "99.65% [Ciresan et al., 2011](http://people.idsia.ch/~juergen/ijcai2011.pdf)\n",
    "\n",
    "\n",
    "MNIST is a great dataset for sanity checking your models, since the accuracy levels achieved by large convolutional neural networks and small linear models are both quite high. This makes it important to be familiar with the data.\n",
    "\n",
    "## Installation"
   ]
  },
  {
   "cell_type": "code",
   "execution_count": 1,
   "metadata": {},
   "outputs": [],
   "source": [
    "# Update the PATH to include the user installation directory. \n",
    "import os\n",
    "os.environ['PATH'] = f\"{os.environ['PATH']}:/root/.local/bin\"\n",
    "\n",
    "# Restart the Kernel before you move on to the next step."
   ]
  },
  {
   "cell_type": "markdown",
   "metadata": {},
   "source": [
    "#### Important: Restart the Kernel before you move on to the next step."
   ]
  },
  {
   "cell_type": "code",
   "execution_count": 2,
   "metadata": {},
   "outputs": [
    {
     "name": "stdout",
     "output_type": "stream",
     "text": [
      "Defaulting to user installation because normal site-packages is not writeable\n",
      "Collecting opencv-python-headless==4.5.3.56\n",
      "  Downloading opencv_python_headless-4.5.3.56-cp37-cp37m-manylinux2014_x86_64.whl (37.1 MB)\n",
      "\u001b[K     |████████████████████████████████| 37.1 MB 144 kB/s eta 0:00:01\n",
      "\u001b[?25hRequirement already satisfied: matplotlib==3.4.3 in /opt/conda/lib/python3.7/site-packages (from -r requirements.txt (line 2)) (3.4.3)\n",
      "Requirement already satisfied: numpy==1.21.2 in /opt/conda/lib/python3.7/site-packages (from -r requirements.txt (line 3)) (1.21.2)\n",
      "Requirement already satisfied: pillow==7.0.0 in /opt/conda/lib/python3.7/site-packages (from -r requirements.txt (line 4)) (7.0.0)\n",
      "Collecting bokeh==2.1.1\n",
      "  Downloading bokeh-2.1.1.tar.gz (19.3 MB)\n",
      "\u001b[K     |████████████████████████████████| 19.3 MB 68.0 MB/s eta 0:00:01\n",
      "\u001b[?25hRequirement already satisfied: torch==1.11.0 in /opt/conda/lib/python3.7/site-packages (from -r requirements.txt (line 6)) (1.11.0)\n",
      "Collecting torchvision==0.12.0\n",
      "  Downloading torchvision-0.12.0-cp37-cp37m-manylinux1_x86_64.whl (21.0 MB)\n",
      "\u001b[K     |████████████████████████████████| 21.0 MB 64.3 MB/s eta 0:00:01\n",
      "\u001b[?25hCollecting tqdm==4.63.0\n",
      "  Downloading tqdm-4.63.0-py2.py3-none-any.whl (76 kB)\n",
      "\u001b[K     |████████████████████████████████| 76 kB 8.2 MB/s  eta 0:00:01\n",
      "\u001b[?25hCollecting ipywidgets==7.7.0\n",
      "  Downloading ipywidgets-7.7.0-py2.py3-none-any.whl (123 kB)\n",
      "\u001b[K     |████████████████████████████████| 123 kB 76.2 MB/s eta 0:00:01\n",
      "\u001b[?25hCollecting livelossplot==0.5.4\n",
      "  Downloading livelossplot-0.5.4-py3-none-any.whl (22 kB)\n",
      "Collecting pytest==7.1.1\n",
      "  Downloading pytest-7.1.1-py3-none-any.whl (297 kB)\n",
      "\u001b[K     |████████████████████████████████| 297 kB 73.7 MB/s eta 0:00:01\n",
      "\u001b[?25hCollecting pandas==1.3.5\n",
      "  Downloading pandas-1.3.5-cp37-cp37m-manylinux_2_17_x86_64.manylinux2014_x86_64.whl (11.3 MB)\n",
      "\u001b[K     |████████████████████████████████| 11.3 MB 58.7 MB/s eta 0:00:01\n",
      "\u001b[?25hCollecting seaborn==0.11.2\n",
      "  Downloading seaborn-0.11.2-py3-none-any.whl (292 kB)\n",
      "\u001b[K     |████████████████████████████████| 292 kB 77.1 MB/s eta 0:00:01\n",
      "\u001b[?25hCollecting jupyter==1.0.0\n",
      "  Downloading jupyter-1.0.0-py2.py3-none-any.whl (2.7 kB)\n",
      "Collecting ipykernel==4.10.0\n",
      "  Downloading ipykernel-4.10.0-py3-none-any.whl (109 kB)\n",
      "\u001b[K     |████████████████████████████████| 109 kB 68.4 MB/s eta 0:00:01\n",
      "\u001b[?25hRequirement already satisfied: cycler>=0.10 in /opt/conda/lib/python3.7/site-packages (from matplotlib==3.4.3->-r requirements.txt (line 2)) (0.10.0)\n",
      "Requirement already satisfied: pyparsing>=2.2.1 in /opt/conda/lib/python3.7/site-packages (from matplotlib==3.4.3->-r requirements.txt (line 2)) (2.4.6)\n",
      "Requirement already satisfied: kiwisolver>=1.0.1 in /opt/conda/lib/python3.7/site-packages (from matplotlib==3.4.3->-r requirements.txt (line 2)) (1.1.0)\n",
      "Requirement already satisfied: python-dateutil>=2.7 in /opt/conda/lib/python3.7/site-packages (from matplotlib==3.4.3->-r requirements.txt (line 2)) (2.8.1)\n",
      "Requirement already satisfied: PyYAML>=3.10 in /opt/conda/lib/python3.7/site-packages (from bokeh==2.1.1->-r requirements.txt (line 5)) (5.3)\n",
      "Requirement already satisfied: Jinja2>=2.7 in /opt/conda/lib/python3.7/site-packages (from bokeh==2.1.1->-r requirements.txt (line 5)) (2.11.1)\n",
      "Requirement already satisfied: packaging>=16.8 in /opt/conda/lib/python3.7/site-packages (from bokeh==2.1.1->-r requirements.txt (line 5)) (20.1)\n",
      "Requirement already satisfied: tornado>=5.1 in /opt/conda/lib/python3.7/site-packages (from bokeh==2.1.1->-r requirements.txt (line 5)) (5.1.1)\n",
      "Requirement already satisfied: typing_extensions>=3.7.4 in /opt/conda/lib/python3.7/site-packages (from bokeh==2.1.1->-r requirements.txt (line 5)) (3.7.4.1)\n",
      "Requirement already satisfied: requests in /opt/conda/lib/python3.7/site-packages (from torchvision==0.12.0->-r requirements.txt (line 7)) (2.23.0)\n",
      "Requirement already satisfied: nbformat>=4.2.0 in /opt/conda/lib/python3.7/site-packages (from ipywidgets==7.7.0->-r requirements.txt (line 9)) (5.0.4)\n",
      "Requirement already satisfied: traitlets>=4.3.1 in /opt/conda/lib/python3.7/site-packages (from ipywidgets==7.7.0->-r requirements.txt (line 9)) (4.3.3)\n",
      "Collecting widgetsnbextension~=3.6.0\n",
      "  Downloading widgetsnbextension-3.6.6-py2.py3-none-any.whl (1.6 MB)\n",
      "\u001b[K     |████████████████████████████████| 1.6 MB 64.3 MB/s eta 0:00:01\n",
      "\u001b[?25hRequirement already satisfied: ipython>=4.0.0; python_version >= \"3.3\" in /opt/conda/lib/python3.7/site-packages (from ipywidgets==7.7.0->-r requirements.txt (line 9)) (7.13.0)\n",
      "Collecting jupyterlab-widgets>=1.0.0; python_version >= \"3.6\"\n",
      "  Downloading jupyterlab_widgets-3.0.11-py3-none-any.whl (214 kB)\n",
      "\u001b[K     |████████████████████████████████| 214 kB 68.7 MB/s eta 0:00:01\n",
      "\u001b[?25hRequirement already satisfied: ipython-genutils~=0.2.0 in /opt/conda/lib/python3.7/site-packages (from ipywidgets==7.7.0->-r requirements.txt (line 9)) (0.2.0)\n",
      "Collecting py>=1.8.2\n",
      "  Downloading py-1.11.0-py2.py3-none-any.whl (98 kB)\n",
      "\u001b[K     |████████████████████████████████| 98 kB 11.5 MB/s eta 0:00:01\n",
      "\u001b[?25hCollecting iniconfig\n",
      "  Downloading iniconfig-2.0.0-py3-none-any.whl (5.9 kB)\n",
      "Collecting pluggy<2.0,>=0.12\n",
      "  Downloading pluggy-1.2.0-py3-none-any.whl (17 kB)\n",
      "Requirement already satisfied: importlib-metadata>=0.12; python_version < \"3.8\" in /opt/conda/lib/python3.7/site-packages (from pytest==7.1.1->-r requirements.txt (line 11)) (1.5.0)\n",
      "Collecting tomli>=1.0.0\n",
      "  Downloading tomli-2.0.1-py3-none-any.whl (12 kB)\n",
      "Requirement already satisfied: attrs>=19.2.0 in /opt/conda/lib/python3.7/site-packages (from pytest==7.1.1->-r requirements.txt (line 11)) (19.3.0)\n",
      "Requirement already satisfied: pytz>=2017.3 in /opt/conda/lib/python3.7/site-packages (from pandas==1.3.5->-r requirements.txt (line 12)) (2019.3)\n",
      "Requirement already satisfied: scipy>=1.0 in /opt/conda/lib/python3.7/site-packages (from seaborn==0.11.2->-r requirements.txt (line 13)) (1.7.1)\n",
      "Requirement already satisfied: notebook in /opt/conda/lib/python3.7/site-packages (from jupyter==1.0.0->-r requirements.txt (line 14)) (5.7.4)\n",
      "Requirement already satisfied: nbconvert in /opt/conda/lib/python3.7/site-packages (from jupyter==1.0.0->-r requirements.txt (line 14)) (5.6.1)\n",
      "Collecting jupyter-console\n",
      "  Downloading jupyter_console-6.6.3-py3-none-any.whl (24 kB)\n",
      "Collecting qtconsole\n",
      "  Downloading qtconsole-5.4.4-py3-none-any.whl (121 kB)\n",
      "\u001b[K     |████████████████████████████████| 121 kB 58.3 MB/s eta 0:00:01\n",
      "\u001b[?25hRequirement already satisfied: jupyter-client in /opt/conda/lib/python3.7/site-packages (from ipykernel==4.10.0->-r requirements.txt (line 15)) (6.0.0)\n",
      "Requirement already satisfied: six in /opt/conda/lib/python3.7/site-packages (from cycler>=0.10->matplotlib==3.4.3->-r requirements.txt (line 2)) (1.16.0)\n",
      "Requirement already satisfied: setuptools in /opt/conda/lib/python3.7/site-packages (from kiwisolver>=1.0.1->matplotlib==3.4.3->-r requirements.txt (line 2)) (45.2.0.post20200209)\n",
      "Requirement already satisfied: MarkupSafe>=0.23 in /opt/conda/lib/python3.7/site-packages (from Jinja2>=2.7->bokeh==2.1.1->-r requirements.txt (line 5)) (1.1.1)\n",
      "Requirement already satisfied: urllib3!=1.25.0,!=1.25.1,<1.26,>=1.21.1 in /opt/conda/lib/python3.7/site-packages (from requests->torchvision==0.12.0->-r requirements.txt (line 7)) (1.25.7)\n",
      "Requirement already satisfied: chardet<4,>=3.0.2 in /opt/conda/lib/python3.7/site-packages (from requests->torchvision==0.12.0->-r requirements.txt (line 7)) (3.0.4)\n",
      "Requirement already satisfied: idna<3,>=2.5 in /opt/conda/lib/python3.7/site-packages (from requests->torchvision==0.12.0->-r requirements.txt (line 7)) (2.9)\n",
      "Requirement already satisfied: certifi>=2017.4.17 in /opt/conda/lib/python3.7/site-packages (from requests->torchvision==0.12.0->-r requirements.txt (line 7)) (2019.11.28)\n",
      "Requirement already satisfied: jsonschema!=2.5.0,>=2.4 in /opt/conda/lib/python3.7/site-packages (from nbformat>=4.2.0->ipywidgets==7.7.0->-r requirements.txt (line 9)) (3.2.0)\n",
      "Requirement already satisfied: jupyter-core in /opt/conda/lib/python3.7/site-packages (from nbformat>=4.2.0->ipywidgets==7.7.0->-r requirements.txt (line 9)) (4.6.3)\n",
      "Requirement already satisfied: decorator in /opt/conda/lib/python3.7/site-packages (from traitlets>=4.3.1->ipywidgets==7.7.0->-r requirements.txt (line 9)) (4.4.2)\n",
      "Requirement already satisfied: pygments in /opt/conda/lib/python3.7/site-packages (from ipython>=4.0.0; python_version >= \"3.3\"->ipywidgets==7.7.0->-r requirements.txt (line 9)) (2.5.2)\n",
      "Requirement already satisfied: backcall in /opt/conda/lib/python3.7/site-packages (from ipython>=4.0.0; python_version >= \"3.3\"->ipywidgets==7.7.0->-r requirements.txt (line 9)) (0.1.0)\n",
      "Requirement already satisfied: jedi>=0.10 in /opt/conda/lib/python3.7/site-packages (from ipython>=4.0.0; python_version >= \"3.3\"->ipywidgets==7.7.0->-r requirements.txt (line 9)) (0.16.0)\n",
      "Requirement already satisfied: pickleshare in /opt/conda/lib/python3.7/site-packages (from ipython>=4.0.0; python_version >= \"3.3\"->ipywidgets==7.7.0->-r requirements.txt (line 9)) (0.7.5)\n",
      "Requirement already satisfied: prompt-toolkit!=3.0.0,!=3.0.1,<3.1.0,>=2.0.0 in /opt/conda/lib/python3.7/site-packages (from ipython>=4.0.0; python_version >= \"3.3\"->ipywidgets==7.7.0->-r requirements.txt (line 9)) (3.0.3)\n",
      "Requirement already satisfied: pexpect; sys_platform != \"win32\" in /opt/conda/lib/python3.7/site-packages (from ipython>=4.0.0; python_version >= \"3.3\"->ipywidgets==7.7.0->-r requirements.txt (line 9)) (4.8.0)\n",
      "Requirement already satisfied: zipp>=0.5 in /opt/conda/lib/python3.7/site-packages (from importlib-metadata>=0.12; python_version < \"3.8\"->pytest==7.1.1->-r requirements.txt (line 11)) (3.0.0)\n",
      "Requirement already satisfied: terminado>=0.8.1 in /opt/conda/lib/python3.7/site-packages (from notebook->jupyter==1.0.0->-r requirements.txt (line 14)) (0.8.3)\n",
      "Requirement already satisfied: prometheus-client in /opt/conda/lib/python3.7/site-packages (from notebook->jupyter==1.0.0->-r requirements.txt (line 14)) (0.7.1)\n",
      "Requirement already satisfied: pyzmq>=17 in /opt/conda/lib/python3.7/site-packages (from notebook->jupyter==1.0.0->-r requirements.txt (line 14)) (19.0.0)\n",
      "Requirement already satisfied: Send2Trash in /opt/conda/lib/python3.7/site-packages (from notebook->jupyter==1.0.0->-r requirements.txt (line 14)) (1.5.0)\n",
      "Requirement already satisfied: pandocfilters>=1.4.1 in /opt/conda/lib/python3.7/site-packages (from nbconvert->jupyter==1.0.0->-r requirements.txt (line 14)) (1.4.2)\n",
      "Requirement already satisfied: bleach in /opt/conda/lib/python3.7/site-packages (from nbconvert->jupyter==1.0.0->-r requirements.txt (line 14)) (3.1.1)\n",
      "Requirement already satisfied: mistune<2,>=0.8.1 in /opt/conda/lib/python3.7/site-packages (from nbconvert->jupyter==1.0.0->-r requirements.txt (line 14)) (0.8.4)\n",
      "Requirement already satisfied: testpath in /opt/conda/lib/python3.7/site-packages (from nbconvert->jupyter==1.0.0->-r requirements.txt (line 14)) (0.4.4)\n",
      "Requirement already satisfied: entrypoints>=0.2.2 in /opt/conda/lib/python3.7/site-packages (from nbconvert->jupyter==1.0.0->-r requirements.txt (line 14)) (0.3)\n",
      "Requirement already satisfied: defusedxml in /opt/conda/lib/python3.7/site-packages (from nbconvert->jupyter==1.0.0->-r requirements.txt (line 14)) (0.6.0)\n",
      "Collecting qtpy>=2.4.0\n",
      "  Downloading QtPy-2.4.1-py3-none-any.whl (93 kB)\n",
      "\u001b[K     |████████████████████████████████| 93 kB 2.5 MB/s  eta 0:00:01\n",
      "\u001b[?25hRequirement already satisfied: pyrsistent>=0.14.0 in /opt/conda/lib/python3.7/site-packages (from jsonschema!=2.5.0,>=2.4->nbformat>=4.2.0->ipywidgets==7.7.0->-r requirements.txt (line 9)) (0.15.7)\n",
      "Requirement already satisfied: parso>=0.5.2 in /opt/conda/lib/python3.7/site-packages (from jedi>=0.10->ipython>=4.0.0; python_version >= \"3.3\"->ipywidgets==7.7.0->-r requirements.txt (line 9)) (0.6.1)\n",
      "Requirement already satisfied: wcwidth in /opt/conda/lib/python3.7/site-packages (from prompt-toolkit!=3.0.0,!=3.0.1,<3.1.0,>=2.0.0->ipython>=4.0.0; python_version >= \"3.3\"->ipywidgets==7.7.0->-r requirements.txt (line 9)) (0.1.8)\n",
      "Requirement already satisfied: ptyprocess>=0.5 in /opt/conda/lib/python3.7/site-packages (from pexpect; sys_platform != \"win32\"->ipython>=4.0.0; python_version >= \"3.3\"->ipywidgets==7.7.0->-r requirements.txt (line 9)) (0.6.0)\n",
      "Requirement already satisfied: webencodings in /opt/conda/lib/python3.7/site-packages (from bleach->nbconvert->jupyter==1.0.0->-r requirements.txt (line 14)) (0.5.1)\n",
      "Building wheels for collected packages: bokeh\n",
      "  Building wheel for bokeh (setup.py) ... \u001b[?25ldone\n",
      "\u001b[?25h  Created wheel for bokeh: filename=bokeh-2.1.1-py3-none-any.whl size=9257186 sha256=c86bb8e3bb8c435265cbdceea8eaab77529d749004a375515a0263c010e495d6\n",
      "  Stored in directory: /root/.cache/pip/wheels/f7/55/ff/f3d7554e69382d31cf7ad857cf518af9b923134fca7d925187\n",
      "Successfully built bokeh\n",
      "\u001b[31mERROR: jupyter-console 6.6.3 has requirement ipykernel>=6.14, but you'll have ipykernel 4.10.0 which is incompatible.\u001b[0m\n",
      "\u001b[31mERROR: jupyter-console 6.6.3 has requirement jupyter-client>=7.0.0, but you'll have jupyter-client 6.0.0 which is incompatible.\u001b[0m\n",
      "\u001b[31mERROR: jupyter-console 6.6.3 has requirement jupyter-core!=5.0.*,>=4.12, but you'll have jupyter-core 4.6.3 which is incompatible.\u001b[0m\n",
      "\u001b[31mERROR: jupyter-console 6.6.3 has requirement prompt-toolkit>=3.0.30, but you'll have prompt-toolkit 3.0.3 which is incompatible.\u001b[0m\n",
      "\u001b[31mERROR: jupyter-console 6.6.3 has requirement traitlets>=5.4, but you'll have traitlets 4.3.3 which is incompatible.\u001b[0m\n",
      "Installing collected packages: opencv-python-headless, bokeh, torchvision, tqdm, widgetsnbextension, ipykernel, jupyterlab-widgets, ipywidgets, livelossplot, py, iniconfig, pluggy, tomli, pytest, pandas, seaborn, jupyter-console, qtpy, qtconsole, jupyter\n",
      "Successfully installed bokeh-2.1.1 iniconfig-2.0.0 ipykernel-4.10.0 ipywidgets-7.7.0 jupyter-1.0.0 jupyter-console-6.6.3 jupyterlab-widgets-3.0.11 livelossplot-0.5.4 opencv-python-headless-4.5.3.56 pandas-1.3.5 pluggy-1.2.0 py-1.11.0 pytest-7.1.1 qtconsole-5.4.4 qtpy-2.4.1 seaborn-0.11.2 tomli-2.0.1 torchvision-0.12.0 tqdm-4.63.0 widgetsnbextension-3.6.6\n"
     ]
    }
   ],
   "source": [
    "# Install requirements\n",
    "!python -m pip install -r requirements.txt"
   ]
  },
  {
   "cell_type": "markdown",
   "metadata": {},
   "source": [
    "## Imports"
   ]
  },
  {
   "cell_type": "code",
   "execution_count": 3,
   "metadata": {},
   "outputs": [],
   "source": [
    "## This cell contains the essential imports you will need – DO NOT CHANGE THE CONTENTS! ##\n",
    "import torch\n",
    "import torch.nn as nn\n",
    "import torch.nn.functional as F\n",
    "import torch.optim as optim\n",
    "import torchvision\n",
    "import torchvision.transforms as transforms\n",
    "import matplotlib.pyplot as plt\n",
    "import numpy as np"
   ]
  },
  {
   "cell_type": "markdown",
   "metadata": {},
   "source": [
    "## Load the Dataset\n",
    "\n",
    "Specify your transforms as a list if you intend to .\n",
    "The transforms module is already loaded as `transforms`.\n",
    "\n",
    "MNIST is fortunately included in the torchvision module.\n",
    "Then, you can create your dataset using the `MNIST` object from `torchvision.datasets` ([the documentation is available here](https://pytorch.org/vision/stable/datasets.html#mnist)).\n",
    "Make sure to specify `download=True`! \n",
    "\n",
    "Once your dataset is created, you'll also need to define a `DataLoader` from the `torch.utils.data` module for both the train and the test set."
   ]
  },
  {
   "cell_type": "code",
   "execution_count": 4,
   "metadata": {},
   "outputs": [],
   "source": [
    "from torch.utils.data import random_split, DataLoader                      "
   ]
  },
  {
   "cell_type": "code",
   "execution_count": 30,
   "metadata": {},
   "outputs": [
    {
     "name": "stdout",
     "output_type": "stream",
     "text": [
      "Dataset MNIST\n",
      "    Number of datapoints: 60000\n",
      "    Root location: ./data\n",
      "    Split: Train\n",
      "    StandardTransform\n",
      "Transform: Compose(\n",
      "               ToTensor()\n",
      "               Normalize(mean=0.5, std=0.5)\n",
      "           )\n",
      "Training set size: 48000\n",
      "Validation set size: 6000\n",
      "Test set size: 6000\n"
     ]
    }
   ],
   "source": [
    "# Define transforms\n",
    "## YOUR CODE HERE ##\n",
    "transform = transforms.Compose([\n",
    "    transforms.ToTensor(),\n",
    "    transforms.Normalize((0.5),(0.5))\n",
    "])\n",
    "\n",
    "transform_to_tensor = transforms.Compose([\n",
    "    transforms.ToTensor()])\n",
    "\n",
    "\n",
    "# Create training set and define training dataloader\n",
    "## YOUR CODE HERE ##\n",
    "\n",
    "dataset = torchvision.datasets.MNIST(root='./data',\n",
    "                                    train = True,\n",
    "                                    download = True,\n",
    "                                    transform = transform)\n",
    "\n",
    "\n",
    "dataset_unnormalized = torchvision.datasets.MNIST(root='./data',\n",
    "                                    train = True,\n",
    "                                    download = True,\n",
    "                                    transform = transform_to_tensor)\n",
    "\n",
    "#print(\"Dataset size: \", len(dataset))\n",
    "print(dataset)\n",
    "\n",
    "# create three splits\n",
    "# train, valid and test sets \n",
    "train_size = int(0.8*len(dataset))\n",
    "valid_size = int(0.1*len(dataset))\n",
    "test_size  = len(dataset) -( train_size + valid_size)\n",
    "\n",
    "# split into three \n",
    "train_set, valid_set,test_set = random_split(dataset,\n",
    "                                            [train_size,valid_size,test_size])\n",
    "\n",
    "\n",
    "# Create test set and define test dataloader\n",
    "# create the dataloaders\n",
    "\n",
    "# define batch size \n",
    "BATCH_SIZE = 64\n",
    "\n",
    "#unnormalized data\n",
    "example_loader = DataLoader(dataset_unnormalized,\n",
    "                          batch_size = BATCH_SIZE,\n",
    "                          shuffle = True\n",
    "                         )\n",
    "\n",
    "train_loader = DataLoader(train_set,\n",
    "                          batch_size = BATCH_SIZE,\n",
    "                          shuffle = True\n",
    "                         )\n",
    "valid_loader = DataLoader(valid_set,\n",
    "                         batch_size = BATCH_SIZE,\n",
    "                         shuffle = True)\n",
    "test_loader  = DataLoader(test_set,\n",
    "                         batch_size = BATCH_SIZE,\n",
    "                         shuffle = True)\n",
    "print(f\"Training set size: {len(train_loader.dataset)}\")\n",
    "print(f\"Validation set size: {len(valid_loader.dataset)}\")\n",
    "print(f\"Test set size: {len(test_loader.dataset)}\")\n",
    "\n"
   ]
  },
  {
   "cell_type": "code",
   "execution_count": 6,
   "metadata": {},
   "outputs": [
    {
     "name": "stdout",
     "output_type": "stream",
     "text": [
      "torch.Size([64, 1, 28, 28]) torch.Size([64])\n"
     ]
    }
   ],
   "source": [
    "### Get a batch of the data\n",
    "\n",
    "data_iter = iter(train_loader)\n",
    "images,labels = next(data_iter)\n",
    "\n",
    "# we have tensors of shape [64,1,28,28]\n",
    "# 64 examples per batch, and images of 28x28\n",
    "# while we have only one number per image (one for each of the 64 images)\n",
    "print(images.shape, labels.shape)"
   ]
  },
  {
   "cell_type": "code",
   "execution_count": null,
   "metadata": {},
   "outputs": [],
   "source": []
  },
  {
   "cell_type": "code",
   "execution_count": null,
   "metadata": {},
   "outputs": [],
   "source": []
  },
  {
   "cell_type": "markdown",
   "metadata": {},
   "source": [
    "## Justify your preprocessing\n",
    "\n",
    "In your own words, why did you choose the transforms you chose? If you didn't use any preprocessing steps, why not?\n",
    "\n",
    "- `ToTensor()` transform is needed to obtain **tensors**.\n",
    "  Pytorch use **tensors** while our dataset contains **images. \n",
    "\n",
    "- In order to make the training more efficient and easy for the optimizer\n",
    "    we standardize the inputs.\n",
    "   - after the transform our images will have a **mean** of 0.5\n",
    "   and a **standard deviation** of 0.5\n",
    "   "
   ]
  },
  {
   "cell_type": "markdown",
   "metadata": {},
   "source": [
    "**DOUBLE CLICK THIS CELL TO MODIFY**"
   ]
  },
  {
   "cell_type": "markdown",
   "metadata": {},
   "source": [
    "## Explore the Dataset\n",
    "Using matplotlib, numpy, and torch, explore the dimensions of your data.\n",
    "\n",
    "You can view images using the `show5` function defined below – it takes a data loader as an argument.\n",
    "Remember that normalized images will look really weird to you! You may want to try changing your transforms to view images.\n",
    "Typically using no transforms other than `toTensor()` works well for viewing – but not as well for training your network.\n",
    "If `show5` doesn't work, go back and check your code for creating your data loaders and your training/test sets."
   ]
  },
  {
   "cell_type": "code",
   "execution_count": 7,
   "metadata": {},
   "outputs": [],
   "source": [
    "## This cell contains a function for showing 5 images from a dataloader – DO NOT CHANGE THE CONTENTS! ##\n",
    "def show5(img_loader):\n",
    "    dataiter = iter(img_loader)\n",
    "    \n",
    "    batch = next(dataiter)\n",
    "    labels = batch[1][0:5]\n",
    "    images = batch[0][0:5]\n",
    "    for i in range(5):\n",
    "        print(int(labels[i].detach()))\n",
    "    \n",
    "        image = images[i].numpy()\n",
    "        plt.imshow(image.T.squeeze().T)\n",
    "        plt.show()"
   ]
  },
  {
   "cell_type": "code",
   "execution_count": 31,
   "metadata": {},
   "outputs": [
    {
     "name": "stdout",
     "output_type": "stream",
     "text": [
      "3\n"
     ]
    },
    {
     "data": {
      "image/png": "[encoded data removed]",
      "text/plain": [
       "<Figure size 432x288 with 1 Axes>"
      ]
     },
     "metadata": {
      "needs_background": "light"
     },
     "output_type": "display_data"
    },
    {
     "name": "stdout",
     "output_type": "stream",
     "text": [
      "5\n"
     ]
    },
    {
     "data": {
      "image/png": "[encoded data removed]",
      "text/plain": [
       "<Figure size 432x288 with 1 Axes>"
      ]
     },
     "metadata": {
      "needs_background": "light"
     },
     "output_type": "display_data"
    },
    {
     "name": "stdout",
     "output_type": "stream",
     "text": [
      "3\n"
     ]
    },
    {
     "data": {
      "image/png": "[encoded data removed]",
      "text/plain": [
       "<Figure size 432x288 with 1 Axes>"
      ]
     },
     "metadata": {
      "needs_background": "light"
     },
     "output_type": "display_data"
    },
    {
     "name": "stdout",
     "output_type": "stream",
     "text": [
      "2\n"
     ]
    },
    {
     "data": {
      "image/png": "[encoded data removed]",
      "text/plain": [
       "<Figure size 432x288 with 1 Axes>"
      ]
     },
     "metadata": {
      "needs_background": "light"
     },
     "output_type": "display_data"
    },
    {
     "name": "stdout",
     "output_type": "stream",
     "text": [
      "2\n"
     ]
    },
    {
     "data": {
      "image/png": "[encoded data removed]",
      "text/plain": [
       "<Figure size 432x288 with 1 Axes>"
      ]
     },
     "metadata": {
      "needs_background": "light"
     },
     "output_type": "display_data"
    }
   ],
   "source": [
    "# Explore data\n",
    "## YOUR CODE HERE ##\n",
    "\n",
    "#normalized data\n",
    "#show5(train_loader)\n",
    "# raw data (unnormalized) for visualization\n",
    "show5(example_loader)"
   ]
  },
  {
   "cell_type": "markdown",
   "metadata": {},
   "source": [
    "## Build your Neural Network\n",
    "Using the layers in `torch.nn` (which has been imported as `nn`) and the `torch.nn.functional` module (imported as `F`), construct a neural network based on the parameters of the dataset.\n",
    "Use any architecture you like. \n",
    "\n",
    "*Note*: If you did not flatten your tensors in your transforms or as part of your preprocessing and you are using only `Linear` layers, make sure to use the `Flatten` layer in your network!"
   ]
  },
  {
   "cell_type": "code",
   "execution_count": 9,
   "metadata": {},
   "outputs": [],
   "source": [
    "## YOUR CODE HERE ##\n",
    "\n",
    "# create a convolutional neural net\n",
    "# Note: dimensions order in pytorch is \n",
    "# NCHW: N batch , C channels, H heigth, W width\n",
    "\n",
    "class ConvNN(nn.Module):\n",
    "    def __init__(self):\n",
    "        super(ConvNN, self).__init__()\n",
    "        \n",
    "        # define layers\n",
    "        self.conv1 = nn.Conv2d(\n",
    "            in_channels   =1 , # pass images with one single channel (black and white)\n",
    "            out_channels = 32, # return a tensor with 32 channels\n",
    "            kernel_size =3,\n",
    "            stride = 1, # a step of 1 while moving the kernel \n",
    "            padding = 1 # padding of 1 to fit kernel size \n",
    "            )\n",
    "        \n",
    "        # Batch normalization for conv1\n",
    "        self.bn1 = nn.BatchNorm2d(32)  \n",
    "\n",
    "        \n",
    "        self.conv2 = nn.Conv2d(\n",
    "            in_channels = 32, # the same as the output channels from previous layer ´conv1´ \n",
    "            out_channels = 64, # double the output channels \n",
    "            kernel_size = 3,\n",
    "            stride = 1,\n",
    "            padding = 1 \n",
    "            ) \n",
    "        \n",
    "        # Batch normalization for conv2\n",
    "        self.bn2 = nn.BatchNorm2d(64)  \n",
    "        \n",
    "        self.conv3 = nn.Conv2d(\n",
    "            in_channels=64, \n",
    "            out_channels=128, \n",
    "            kernel_size=3, \n",
    "            stride=1, \n",
    "            padding=1\n",
    "        )\n",
    "        self.bn3 = nn.BatchNorm2d(128)  # Batch normalization for conv3\n",
    "\n",
    "        \n",
    "        # Now define fully connected layers (multilayer perceptron)\n",
    "        self.fc1 = nn.Linear(in_features = 128*3*3, # input is a tensor of 128*3*3 entries\n",
    "                             out_features = 128)\n",
    "        \n",
    "        self.fc2 = nn.Linear(in_features = 128, # number input features is the same as output features from prev layer \n",
    "                             out_features = 10) # number of ouputs is the same as the number of classes (digits 0, 1, ... 10)\n",
    "        \n",
    "        #define dropout layer \n",
    "        self.dropout = nn.Dropout(0.5)\n",
    "    \n",
    "    \n",
    "    def forward(self,x):\n",
    "        \n",
    "        # apply conv layer then activation function\n",
    "        x = F.relu(self.conv1(x))\n",
    "        # apply pooling reduction to get only regions of max activation\n",
    "        x = F.max_pool2d(input = x, kernel_size = 2)\n",
    "        \n",
    "        x = F.relu(self.conv2(x))\n",
    "        x = F.max_pool2d(x,2)\n",
    "        \n",
    "        x = F.relu(self.bn3(self.conv3(x)))\n",
    "        x = F.max_pool2d(x, 2)\n",
    "        \n",
    "        #print(\"x shape  after convs: \", x.shape)\n",
    "        \n",
    "        # from  tensor to a vector \n",
    "        x = x.view(-1,128 * 3 * 3) # batch size is first\n",
    "        #print(\"x shape  after view: \", x.shape)\n",
    "        \n",
    "        # apply multi-layer perceptron\n",
    "        x = F.relu(self.fc1(x))\n",
    "        \n",
    "        #apply dropout\n",
    "        x = self.dropout(x)\n",
    "        \n",
    "        x = self.fc2(x)\n",
    "        \n",
    "        return F.log_softmax(x, dim=1)  # Apply log_softmax\n"
   ]
  },
  {
   "cell_type": "code",
   "execution_count": null,
   "metadata": {},
   "outputs": [],
   "source": []
  },
  {
   "cell_type": "code",
   "execution_count": null,
   "metadata": {},
   "outputs": [],
   "source": []
  },
  {
   "cell_type": "markdown",
   "metadata": {},
   "source": [
    "Specify a loss function and an optimizer, and instantiate the model.\n",
    "\n",
    "If you use a less common loss function, please note why you chose that loss function in a comment."
   ]
  },
  {
   "cell_type": "markdown",
   "metadata": {},
   "source": [
    " **Negative Log Likelihood Loss**\n",
    " \n",
    " Can improve numerical stability by preventing issues with very small values (probabilities) in contrast to **Cross Entropy Loss** with softmax.\n",
    " \n",
    " NLLL has better flexibility at desingning custom losses. We can easily add additonal terms, such as regularization.\n",
    " \n",
    " $$ \\log \\mathbb{P}(D | \\theta)  = \\sum_{i = 1 }^{n} \\log \\hat{y}_{\\theta, i}^{y_i}  $$\n",
    " "
   ]
  },
  {
   "cell_type": "code",
   "execution_count": null,
   "metadata": {},
   "outputs": [],
   "source": []
  },
  {
   "cell_type": "code",
   "execution_count": 53,
   "metadata": {},
   "outputs": [],
   "source": [
    "## YOUR CODE HERE ##"
   ]
  },
  {
   "cell_type": "code",
   "execution_count": 10,
   "metadata": {},
   "outputs": [
    {
     "data": {
      "text/plain": [
       "ConvNN(\n",
       "  (conv1): Conv2d(1, 32, kernel_size=(3, 3), stride=(1, 1), padding=(1, 1))\n",
       "  (bn1): BatchNorm2d(32, eps=1e-05, momentum=0.1, affine=True, track_running_stats=True)\n",
       "  (conv2): Conv2d(32, 64, kernel_size=(3, 3), stride=(1, 1), padding=(1, 1))\n",
       "  (bn2): BatchNorm2d(64, eps=1e-05, momentum=0.1, affine=True, track_running_stats=True)\n",
       "  (conv3): Conv2d(64, 128, kernel_size=(3, 3), stride=(1, 1), padding=(1, 1))\n",
       "  (bn3): BatchNorm2d(128, eps=1e-05, momentum=0.1, affine=True, track_running_stats=True)\n",
       "  (fc1): Linear(in_features=1152, out_features=128, bias=True)\n",
       "  (fc2): Linear(in_features=128, out_features=10, bias=True)\n",
       "  (dropout): Dropout(p=0.5, inplace=False)\n",
       ")"
      ]
     },
     "execution_count": 10,
     "metadata": {},
     "output_type": "execute_result"
    }
   ],
   "source": [
    "model = ConvNN()\n",
    "model"
   ]
  },
  {
   "cell_type": "code",
   "execution_count": 11,
   "metadata": {},
   "outputs": [],
   "source": [
    "# Loss for classification\n",
    "criterion = nn.NLLLoss()\n",
    "\n",
    "# optimizer\n",
    "optimizer = torch.optim.Adam(model.parameters(), \n",
    "                             lr=0.03,#0.005\n",
    "                             weight_decay = 0.001 #0.001\n",
    ")"
   ]
  },
  {
   "cell_type": "code",
   "execution_count": 12,
   "metadata": {},
   "outputs": [
    {
     "data": {
      "text/plain": [
       "device(type='cuda')"
      ]
     },
     "execution_count": 12,
     "metadata": {},
     "output_type": "execute_result"
    }
   ],
   "source": [
    "device = torch.device('cuda' if torch.cuda.is_available() else 'cpu')\n",
    "device"
   ]
  },
  {
   "cell_type": "code",
   "execution_count": 13,
   "metadata": {},
   "outputs": [
    {
     "name": "stdout",
     "output_type": "stream",
     "text": [
      "Moving model to device:  cuda\n"
     ]
    }
   ],
   "source": [
    "print(\"Moving model to device: \", device)\n",
    "# move model to device \n",
    "model = model.to(device)\n",
    "    "
   ]
  },
  {
   "cell_type": "code",
   "execution_count": null,
   "metadata": {},
   "outputs": [],
   "source": []
  },
  {
   "cell_type": "code",
   "execution_count": 14,
   "metadata": {},
   "outputs": [],
   "source": [
    "import time \n",
    "import torch as th "
   ]
  },
  {
   "cell_type": "code",
   "execution_count": 15,
   "metadata": {},
   "outputs": [],
   "source": [
    "def train_step(model: th.nn.Module,\n",
    "          dataloader: th.utils.data.DataLoader,\n",
    "          criterion: th.nn.Module,\n",
    "          optimizer: th.optim.Optimizer,\n",
    "          device: th.device) -> None:\n",
    "    \"\"\"\n",
    "    Args:\n",
    "        model: The model to train.\n",
    "        train_dataloader: The training data.\n",
    "        criterion: The loss function.\n",
    "        optimizer: The optimizer to use.\n",
    "        device: The device to use.\n",
    "    Model weigths are changed in place\n",
    "    \n",
    "    Receive a model, train it with the given optimizer\n",
    "    by ONE epoch, using the `criterion` function to measure the performance of the model.\n",
    "    The model will be trained on the `train_dataloader` and\n",
    "    evaluated on the `valid_dataloader` during each epoch.\n",
    "    The function will return the trained model.\n",
    "\n",
    "    Returns:\n",
    "    loss_value, accuracy \n",
    "        \n",
    "    \"\"\"\n",
    "    \n",
    "    # set model to train mode \n",
    "    model.train()\n",
    "\n",
    "    # init \n",
    "    loss_value,accuracy = 0,0\n",
    "    \n",
    "    #start time \n",
    "    t0 = time.time()\n",
    "    n_batches= len(dataloader)\n",
    "    \n",
    "    #Iterate over the pairs (X_i,y_i) (features, labels)\n",
    "    for i, (X,y) in enumerate(dataloader):\n",
    "        #if i >= 10:\n",
    "        #    break\n",
    "        #print(\"Training on batch {} from {} batches\".format(i,n_batches))\n",
    "\n",
    "        #move the data to device\n",
    "        #must be on the same device that model\n",
    "        features,labels = X.to(device), y.to(device)\n",
    "        \n",
    "        # apply forward propagation\n",
    "        # outputs is the log probabilities\n",
    "        outputs = model(features)\n",
    "\n",
    "        # compute loss\n",
    "        loss= criterion(outputs, labels)\n",
    "\n",
    "        # loss_value is a single number, get it with .item\n",
    "        batch_loss = loss.item()\n",
    "        loss_value +=  batch_loss\n",
    "\n",
    "        # reset gradient accumulation\n",
    "        # gradient tensors to 0\n",
    "        optimizer.zero_grad()\n",
    "\n",
    "        # compute gradients\n",
    "        loss.backward()\n",
    "\n",
    "        # update params. \n",
    "        # apply gradient descent\n",
    "        optimizer.step()\n",
    "\n",
    "        # Get the classes predicted by the model\n",
    "        # logits -> classes \n",
    "        #predicted_classes = th.argmax(\n",
    "        #    th.softmax(outputs,dim = 1),\n",
    "        #    dim= 1 )\n",
    "        \n",
    "        # Compute accuracy applying exponential e^x\n",
    "        # we are using Neative Log Likelihood Loss (th.nn.NLLLoss())\n",
    "        # log probabilities -> probabilities\n",
    "        probs = torch.exp(outputs)\n",
    "\n",
    "        # get the topk biggest values from probs\n",
    "        # values, indices = probs.topk(k=5, dim=1)  \n",
    "        # we get (top probability, top class (index))\n",
    "        top_p, top_class = probs.topk(k=1, dim=1)\n",
    "\n",
    "        # compare the predicted class (top_class) and the actual\n",
    "        #class (label)\n",
    "        # transform (get a view) the labels into the shape of top class\n",
    "        equals = top_class == labels.view(*top_class.shape)\n",
    "        #train_accuracy += th.mean(equals.type(th.FloatTensor)).item()\n",
    "        accuracy += th.mean(equals.type(th.float)).item()\n",
    "        \n",
    "    loss_value = loss_value / len(dataloader)\n",
    "    \n",
    "    accuracy = accuracy / len(dataloader)\n",
    "    \n",
    "    print('\\033[102m' + 'New epoch completed!' + '\\033[0m')\n",
    "    print(f'Training Loss: {loss_value:.3f}')\n",
    "    print(f'Training Accuracy: {100.0*accuracy:.3f}% ')\n",
    "    print(f'Time Elapsed: {time.time() - t0:.3f} seconds')\n",
    "    print()    \n",
    "\n",
    "    return loss_value, accuracy"
   ]
  },
  {
   "cell_type": "code",
   "execution_count": 16,
   "metadata": {},
   "outputs": [],
   "source": [
    "def validation_step(model: th.nn.Module,\n",
    "          dataloader: th.utils.data.DataLoader,\n",
    "          criterion: th.nn.Module,\n",
    "          device: th.device) -> None:\n",
    "    \"\"\"\n",
    "    Args:\n",
    "        model: The model to train.\n",
    "        train_dataloader: The training data.\n",
    "        valid_dataloader: The validation data.\n",
    "        criterion: The loss function.\n",
    "        device: The device to use.\n",
    "        \n",
    "    Receive a model, run it  to validate on the given data.\n",
    "    Use one epoch over the dataset on dataloader.\n",
    "    The function will return accuracy and loss on the dataset\n",
    "    \n",
    "    \n",
    "    Returns:\n",
    "        loss_value, accuracy \n",
    "    \"\"\"\n",
    "    \n",
    "    # set model to evaluation mode\n",
    "    #turn off gradient computation\n",
    "    model.eval()\n",
    "\n",
    "    # init \n",
    "    loss_value,accuracy = 0,0\n",
    "    \n",
    "    #start time \n",
    "    t0 = time.time()\n",
    "\n",
    "    #Iterate over the pairs (X_i,y_i) (features, labels)\n",
    "    for i, (X,y) in enumerate(dataloader):\n",
    "        #if i >= 10:\n",
    "        #    break\n",
    "        #move the data to device\n",
    "        #must be on the same device that model\n",
    "        features,labels = X.to(device),y.to(device)\n",
    "        \n",
    "        # apply forward propagation\n",
    "        # outputs is the log probabilities\n",
    "        outputs = model(features)\n",
    "\n",
    "        # compute loss\n",
    "        loss= criterion(outputs, labels)\n",
    "\n",
    "        # the loss_value is a number\n",
    "        batch_loss = loss.item()\n",
    "        loss_value+=  batch_loss\n",
    "\n",
    "        # Get the classes predicted by the model\n",
    "        # logits -> classes \n",
    "        #predicted_classes = th.argmax(\n",
    "        #    th.softmax(outputs,dim = 1),\n",
    "        #    dim= 1 \n",
    "        #)\n",
    "        \n",
    "        # Compute accuracy\n",
    "        # log probabilities -> probabilities\n",
    "        probs = torch.exp(outputs)\n",
    "\n",
    "        # get the topk biggest values from probs\n",
    "        # values, indices = probs.topk(k=5, dim=1)  \n",
    "        # we get top probability, top class (index)\n",
    "        top_p, top_class = probs.topk(k=1, dim=1)\n",
    "\n",
    "        # compare the predicted class (top_class) and the actual classes (labels)\n",
    "        # transform (get a view) the labels into the shape of top class\n",
    "        equals = top_class == labels.view(*top_class.shape)\n",
    "        #train_accuracy += th.mean(equals.type(th.FloatTensor)).item()\n",
    "        accuracy += th.mean(equals.type(th.float)).item()\n",
    "        \n",
    "    loss_value = loss_value / len(dataloader)\n",
    "    accuracy = accuracy / len(dataloader)\n",
    "\n",
    "    print('\\033[102m' + 'New validation epoch completed!' + '\\033[0m')\n",
    "    print(f'Validation Loss: {loss_value:.3f}')\n",
    "    print(f'Validation Accuracy: {100.0*accuracy:.3f}%')\n",
    "    print(f'Time Elapsed: {time.time() - t0:.3f} seconds')\n",
    "    print()    \n",
    "\n",
    "    return loss_value, accuracy "
   ]
  },
  {
   "cell_type": "code",
   "execution_count": 17,
   "metadata": {},
   "outputs": [],
   "source": [
    "def train(model: th.nn.Module,\n",
    "          train_dataloader: th.utils.data.DataLoader,\n",
    "          valid_dataloader: th.utils.data.DataLoader,\n",
    "          criterion: th.nn.Module,\n",
    "          optimizer: th.optim.Optimizer,\n",
    "          device: th.device, \n",
    "          epochs : int) -> None:\n",
    "    \"\"\"\n",
    "    Receive a model, train it with the given optimizer\n",
    "    by n number of  epochs (epochs) , and evaluate it\n",
    "    using the `criterion` function to measure the performance of the model.\n",
    "    \n",
    "    The model will be trained on the data given by `train_dataloader` and\n",
    "    evaluated on the `valid_dataloader` data, during each epoch.\n",
    "        \n",
    "    Args:\n",
    "        model: The model to train.\n",
    "        train_dataloader: The training data.\n",
    "        valid_dataloader: The validation data.\n",
    "        criterion: The loss function.\n",
    "        optimizer: The optimizer to use.\n",
    "        device: The device to use.\n",
    "        epochs: the number of epochs to train\n",
    "    Model weigths are changed in place\n",
    "    \n",
    "    Returns:\n",
    "    loss_value, accuracy \n",
    "        \n",
    "    \"\"\"\n",
    "\n",
    "    # Collect loss and accuracy \n",
    "    train_losses, train_accuracies = [],[]\n",
    "    valid_losses, valid_accuracies = [],[]\n",
    "\n",
    "    print(\"\\033[92m{}\\033[00m\".format(\"Starting training . . . \") )\n",
    "    print(\"Number of epochs: \" ,epochs)\n",
    "    print(\"Device: \",device )\n",
    "    print(\"Criterion: \", criterion)\n",
    "    print(\"Optimizaer: \", optimizer)\n",
    "\n",
    "    for epoch in range(epochs):\n",
    "        print(\"\\033[94m {}\\033[00m\".format(\"Epoch: \" + str(epoch)))\n",
    "    \n",
    "        train_loss, train_accuracy = train_step(model = model ,\n",
    "            dataloader = train_dataloader,\n",
    "            criterion = criterion,\n",
    "            optimizer = optimizer,\n",
    "            device = device)\n",
    "        train_losses.append(train_loss)\n",
    "        train_accuracies.append(train_accuracy)\n",
    "\n",
    "        valid_loss, valid_accuracy = validation_step(model = model ,\n",
    "            dataloader = valid_dataloader,\n",
    "            criterion = criterion,\n",
    "            device = device)\n",
    "        valid_losses.append(valid_loss)\n",
    "        valid_accuracies.append(valid_accuracy)\n",
    "\n",
    "        print()\n",
    "        \n",
    "        \n",
    "    #print(\"training losses and valid: \", train_losses,valid_losses)    \n",
    "    # Plot the training and validation loss history\n",
    "    plt.plot(train_losses, label=\"Training Loss\")\n",
    "    plt.plot(valid_losses, label=\"Validation Loss\")\n",
    "    plt.legend()\n",
    "    \n",
    "    plt.subplots(1)\n",
    "    plt.plot(train_accuracies, label=\"Training Accuracy\")\n",
    "    plt.plot(valid_accuracies, label=\"Validation Accuracy\")\n",
    "    \n",
    "    plt.legend()\n",
    "    plt.show()"
   ]
  },
  {
   "cell_type": "code",
   "execution_count": 18,
   "metadata": {},
   "outputs": [
    {
     "name": "stdout",
     "output_type": "stream",
     "text": [
      "\u001b[92mStarting training . . . \u001b[00m\n",
      "Number of epochs:  10\n",
      "Device:  cuda\n",
      "Criterion:  NLLLoss()\n",
      "Optimizaer:  Adam (\n",
      "Parameter Group 0\n",
      "    amsgrad: False\n",
      "    betas: (0.9, 0.999)\n",
      "    eps: 1e-08\n",
      "    lr: 0.03\n",
      "    maximize: False\n",
      "    weight_decay: 0.001\n",
      ")\n",
      "\u001b[94m Epoch: 0\u001b[00m\n",
      "\u001b[102mNew epoch completed!\u001b[0m\n",
      "Training Loss: 1.511\n",
      "Training Accuracy: 48.060% \n",
      "Time Elapsed: 10.843 seconds\n",
      "\n",
      "\u001b[102mNew validation epoch completed!\u001b[0m\n",
      "Validation Loss: 0.230\n",
      "Validation Accuracy: 93.467%\n",
      "Time Elapsed: 1.267 seconds\n",
      "\n",
      "\n",
      "\u001b[94m Epoch: 1\u001b[00m\n",
      "\u001b[102mNew epoch completed!\u001b[0m\n",
      "Training Loss: 0.356\n",
      "Training Accuracy: 89.002% \n",
      "Time Elapsed: 11.033 seconds\n",
      "\n",
      "\u001b[102mNew validation epoch completed!\u001b[0m\n",
      "Validation Loss: 0.181\n",
      "Validation Accuracy: 94.637%\n",
      "Time Elapsed: 1.264 seconds\n",
      "\n",
      "\n",
      "\u001b[94m Epoch: 2\u001b[00m\n",
      "\u001b[102mNew epoch completed!\u001b[0m\n",
      "Training Loss: 0.277\n",
      "Training Accuracy: 91.804% \n",
      "Time Elapsed: 11.233 seconds\n",
      "\n",
      "\u001b[102mNew validation epoch completed!\u001b[0m\n",
      "Validation Loss: 0.136\n",
      "Validation Accuracy: 96.288%\n",
      "Time Elapsed: 1.256 seconds\n",
      "\n",
      "\n",
      "\u001b[94m Epoch: 3\u001b[00m\n",
      "\u001b[102mNew epoch completed!\u001b[0m\n",
      "Training Loss: 0.255\n",
      "Training Accuracy: 92.640% \n",
      "Time Elapsed: 11.402 seconds\n",
      "\n",
      "\u001b[102mNew validation epoch completed!\u001b[0m\n",
      "Validation Loss: 0.120\n",
      "Validation Accuracy: 96.642%\n",
      "Time Elapsed: 1.355 seconds\n",
      "\n",
      "\n",
      "\u001b[94m Epoch: 4\u001b[00m\n",
      "\u001b[102mNew epoch completed!\u001b[0m\n",
      "Training Loss: 0.240\n",
      "Training Accuracy: 93.175% \n",
      "Time Elapsed: 11.107 seconds\n",
      "\n",
      "\u001b[102mNew validation epoch completed!\u001b[0m\n",
      "Validation Loss: 0.186\n",
      "Validation Accuracy: 94.858%\n",
      "Time Elapsed: 1.402 seconds\n",
      "\n",
      "\n",
      "\u001b[94m Epoch: 5\u001b[00m\n",
      "\u001b[102mNew epoch completed!\u001b[0m\n",
      "Training Loss: 0.246\n",
      "Training Accuracy: 93.123% \n",
      "Time Elapsed: 11.732 seconds\n",
      "\n",
      "\u001b[102mNew validation epoch completed!\u001b[0m\n",
      "Validation Loss: 0.167\n",
      "Validation Accuracy: 95.839%\n",
      "Time Elapsed: 1.282 seconds\n",
      "\n",
      "\n",
      "\u001b[94m Epoch: 6\u001b[00m\n",
      "\u001b[102mNew epoch completed!\u001b[0m\n",
      "Training Loss: 0.243\n",
      "Training Accuracy: 93.077% \n",
      "Time Elapsed: 11.063 seconds\n",
      "\n",
      "\u001b[102mNew validation epoch completed!\u001b[0m\n",
      "Validation Loss: 0.190\n",
      "Validation Accuracy: 94.692%\n",
      "Time Elapsed: 1.300 seconds\n",
      "\n",
      "\n",
      "\u001b[94m Epoch: 7\u001b[00m\n",
      "\u001b[102mNew epoch completed!\u001b[0m\n",
      "Training Loss: 0.233\n",
      "Training Accuracy: 93.425% \n",
      "Time Elapsed: 10.955 seconds\n",
      "\n",
      "\u001b[102mNew validation epoch completed!\u001b[0m\n",
      "Validation Loss: 0.137\n",
      "Validation Accuracy: 96.121%\n",
      "Time Elapsed: 1.409 seconds\n",
      "\n",
      "\n",
      "\u001b[94m Epoch: 8\u001b[00m\n",
      "\u001b[102mNew epoch completed!\u001b[0m\n",
      "Training Loss: 0.241\n",
      "Training Accuracy: 93.173% \n",
      "Time Elapsed: 11.509 seconds\n",
      "\n",
      "\u001b[102mNew validation epoch completed!\u001b[0m\n",
      "Validation Loss: 0.202\n",
      "Validation Accuracy: 94.082%\n",
      "Time Elapsed: 1.298 seconds\n",
      "\n",
      "\n",
      "\u001b[94m Epoch: 9\u001b[00m\n",
      "\u001b[102mNew epoch completed!\u001b[0m\n",
      "Training Loss: 0.242\n",
      "Training Accuracy: 93.292% \n",
      "Time Elapsed: 10.828 seconds\n",
      "\n",
      "\u001b[102mNew validation epoch completed!\u001b[0m\n",
      "Validation Loss: 0.131\n",
      "Validation Accuracy: 96.027%\n",
      "Time Elapsed: 1.258 seconds\n",
      "\n",
      "\n"
     ]
    },
    {
     "data": {
      "image/png": "[encoded data removed]",
      "text/plain": [
       "<Figure size 432x288 with 1 Axes>"
      ]
     },
     "metadata": {
      "needs_background": "light"
     },
     "output_type": "display_data"
    },
    {
     "data": {
      "image/png": "[encoded data removed]",
      "text/plain": [
       "<Figure size 432x288 with 1 Axes>"
      ]
     },
     "metadata": {
      "needs_background": "light"
     },
     "output_type": "display_data"
    }
   ],
   "source": []
  },
  {
   "cell_type": "code",
   "execution_count": null,
   "metadata": {},
   "outputs": [],
   "source": []
  },
  {
   "cell_type": "markdown",
   "metadata": {},
   "source": [
    "## Running your Neural Network\n",
    "Use whatever method you like to train your neural network, and ensure you record the average loss at each epoch. \n",
    "Don't forget to use `torch.device()` and the `.to()` method for both your model and your data if you are using GPU!\n",
    "\n",
    "If you want to print your loss **during** each epoch, you can use the `enumerate` function and print the loss after a set number of batches. 250 batches works well for most people!"
   ]
  },
  {
   "cell_type": "code",
   "execution_count": null,
   "metadata": {},
   "outputs": [],
   "source": [
    "## YOUR CODE HERE ##\n",
    "\n",
    "train(model,\n",
    "        train_loader,\n",
    "        valid_loader,\n",
    "        criterion,\n",
    "        optimizer,\n",
    "        device, \n",
    "        epochs = 10)\n",
    "\n"
   ]
  },
  {
   "cell_type": "markdown",
   "metadata": {},
   "source": [
    "Plot the training loss (and validation loss/accuracy, if recorded)."
   ]
  },
  {
   "cell_type": "code",
   "execution_count": null,
   "metadata": {},
   "outputs": [],
   "source": [
    "## YOUR CODE HERE ##"
   ]
  },
  {
   "cell_type": "markdown",
   "metadata": {},
   "source": [
    "## Testing your model\n",
    "Using the previously created `DataLoader` for the test set, compute the percentage of correct predictions using the highest probability prediction. \n",
    "\n",
    "If your accuracy is over 90%, great work, but see if you can push a bit further! \n",
    "If your accuracy is under 90%, you'll need to make improvements.\n",
    "Go back and check your model architecture, loss function, and optimizer to make sure they're appropriate for an image classification task."
   ]
  },
  {
   "cell_type": "code",
   "execution_count": 19,
   "metadata": {},
   "outputs": [
    {
     "name": "stdout",
     "output_type": "stream",
     "text": [
      "\u001b[102mNew validation epoch completed!\u001b[0m\n",
      "Validation Loss: 0.136\n",
      "Validation Accuracy: 95.894%\n",
      "Time Elapsed: 1.083 seconds\n",
      "\n"
     ]
    },
    {
     "data": {
      "text/plain": [
       "(0.13574396442879547, 0.9589428191489362)"
      ]
     },
     "execution_count": 19,
     "metadata": {},
     "output_type": "execute_result"
    }
   ],
   "source": [
    "\n",
    "## YOUR CODE HERE ##\n",
    "# Do validation on the test set\n",
    "validation_step(\n",
    "    model = model ,\n",
    "    dataloader = test_loader,\n",
    "    criterion = criterion,\n",
    "    device = device)"
   ]
  },
  {
   "cell_type": "markdown",
   "metadata": {},
   "source": [
    "## Improving your model\n",
    "\n",
    "Once your model is done training, try tweaking your hyperparameters and training again below to improve your accuracy on the test set!"
   ]
  },
  {
   "cell_type": "code",
   "execution_count": null,
   "metadata": {},
   "outputs": [],
   "source": [
    "## YOUR CODE HERE ##"
   ]
  },
  {
   "cell_type": "markdown",
   "metadata": {},
   "source": [
    "## Saving your model\n",
    "Using `torch.save`, save your model for future loading."
   ]
  },
  {
   "cell_type": "code",
   "execution_count": 26,
   "metadata": {},
   "outputs": [],
   "source": [
    "## YOUR CODE HERE ##\n",
    "\n",
    "\n",
    "import os\n",
    "def save_checkpoint(model, optimizer, epoch, loss, path):\n",
    "    \"\"\"\n",
    "    Save a checkpoint of a PyTorch model for inference or resuming training.\n",
    "    path must be  the path of the model checkpoint file\n",
    "    example: ./models/my_model.pth\n",
    "    \n",
    "    Args:\n",
    "        model (torch.nn.Module): The PyTorch model to be saved.\n",
    "        optimizer (torch.optim.Optimizer): The optimizer used for training the model.\n",
    "        epoch (int): Number of epochs model has been trained.\n",
    "        loss (float): The current training loss.\n",
    "        path (str): The file path to save the checkpoint.\n",
    "\n",
    "    Returns:\n",
    "        None\n",
    "    \"\"\"\n",
    "    # if the dirs in the path does not exist it create them\n",
    "    os.makedirs(os.path.dirname(path), exist_ok=True)\n",
    "\n",
    "    checkpoint = {\n",
    "        'epoch': epoch,\n",
    "        'model_state_dict': model.state_dict(),\n",
    "        'optimizer_state_dict': optimizer.state_dict(),\n",
    "        'loss': loss,\n",
    "    }\n",
    "    \n",
    "    print(\"\\033[94m {}\\033[00m\" .format('Creating checkpoint: '+ path ))\n",
    "    print()\n",
    "\n",
    "    torch.save(checkpoint, path)"
   ]
  },
  {
   "cell_type": "code",
   "execution_count": 27,
   "metadata": {},
   "outputs": [
    {
     "name": "stdout",
     "output_type": "stream",
     "text": [
      "\u001b[94m Creating checkpoint: ./models/final_model.pth\u001b[00m\n",
      "\n"
     ]
    }
   ],
   "source": [
    "CHECKPOINT_PATH = './models/final_model.pth'\n",
    "# Save the model and other information\n",
    "save_checkpoint(model = model,\n",
    "    optimizer = optimizer,\n",
    "    epoch = 10, \n",
    "    loss = 0.13574396442879547,\n",
    "    path =CHECKPOINT_PATH)"
   ]
  },
  {
   "cell_type": "markdown",
   "metadata": {},
   "source": [
    "### Loading a saved model"
   ]
  },
  {
   "cell_type": "code",
   "execution_count": 28,
   "metadata": {},
   "outputs": [],
   "source": [
    "def load_checkpoint(model, optimizer, path, device=None):\n",
    "    \"\"\"\n",
    "    Load a checkpoint of a PyTorch model.\n",
    "\n",
    "    Args:\n",
    "        model (torch.nn.Module): The PyTorch model to load the checkpoint into.\n",
    "        optimizer (torch.optim.Optimizer): The optimizer to load the checkpoint's optimizer state.\n",
    "        PATH (str): The file path of the saved checkpoint.\n",
    "        device (torch.device, optional): The target device to load the model (e.g., 'cuda' or 'cpu').\n",
    "\n",
    "    Returns:\n",
    "        epoch (int): The epoch at which training was left off.\n",
    "        loss (float): The training loss at the checkpoint.\n",
    "    \"\"\"\n",
    "    if device is None:\n",
    "        device = torch.device('cuda' if torch.cuda.is_available() else 'cpu')\n",
    "\n",
    "    checkpoint = torch.load(path, map_location=device)\n",
    "    # load the classifier params\n",
    "    model.load_state_dict(checkpoint['model_state_dict'])\n",
    "    optimizer.load_state_dict(checkpoint['optimizer_state_dict'])\n",
    "    epoch = checkpoint['epoch']\n",
    "    loss = checkpoint['loss']\n",
    "\n",
    "    # Ensure the model is on the correct device\n",
    "    model.to(device)\n",
    "\n",
    "    return epoch, loss"
   ]
  },
  {
   "cell_type": "code",
   "execution_count": 29,
   "metadata": {},
   "outputs": [
    {
     "data": {
      "text/plain": [
       "(10,\n",
       " 0.13574396442879547,\n",
       " ConvNN(\n",
       "   (conv1): Conv2d(1, 32, kernel_size=(3, 3), stride=(1, 1), padding=(1, 1))\n",
       "   (bn1): BatchNorm2d(32, eps=1e-05, momentum=0.1, affine=True, track_running_stats=True)\n",
       "   (conv2): Conv2d(32, 64, kernel_size=(3, 3), stride=(1, 1), padding=(1, 1))\n",
       "   (bn2): BatchNorm2d(64, eps=1e-05, momentum=0.1, affine=True, track_running_stats=True)\n",
       "   (conv3): Conv2d(64, 128, kernel_size=(3, 3), stride=(1, 1), padding=(1, 1))\n",
       "   (bn3): BatchNorm2d(128, eps=1e-05, momentum=0.1, affine=True, track_running_stats=True)\n",
       "   (fc1): Linear(in_features=1152, out_features=128, bias=True)\n",
       "   (fc2): Linear(in_features=128, out_features=10, bias=True)\n",
       "   (dropout): Dropout(p=0.5, inplace=False)\n",
       " ),\n",
       " Adam (\n",
       " Parameter Group 0\n",
       "     amsgrad: False\n",
       "     betas: (0.9, 0.999)\n",
       "     eps: 1e-08\n",
       "     lr: 0.03\n",
       "     maximize: False\n",
       "     weight_decay: 0.001\n",
       " ))"
      ]
     },
     "execution_count": 29,
     "metadata": {},
     "output_type": "execute_result"
    }
   ],
   "source": [
    "\n",
    "#before hand define the model and the optimizer\n",
    "# here we load the state they had after training\n",
    "epoch, loss = load_checkpoint(model = model ,\n",
    "                               optimizer = optimizer,\n",
    "                               path = CHECKPOINT_PATH,\n",
    "                               device=device)\n",
    "#show what we have loaded \n",
    "epoch,loss, model, optimizer"
   ]
  },
  {
   "cell_type": "code",
   "execution_count": null,
   "metadata": {},
   "outputs": [],
   "source": []
  }
 ],
 "metadata": {
  "kernelspec": {
   "display_name": "Python 3",
   "language": "python",
   "name": "python3"
  },
  "language_info": {
   "codemirror_mode": {
    "name": "ipython",
    "version": 3
   },
   "file_extension": ".py",
   "mimetype": "text/x-python",
   "name": "python",
   "nbconvert_exporter": "python",
   "pygments_lexer": "ipython3",
   "version": "3.7.6"
  }
 },
 "nbformat": 4,
 "nbformat_minor": 4
}
